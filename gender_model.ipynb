{
 "cells": [
  {
   "cell_type": "code",
   "execution_count": 1,
   "metadata": {},
   "outputs": [
    {
     "name": "stderr",
     "output_type": "stream",
     "text": [
      "Using TensorFlow backend.\n"
     ]
    }
   ],
   "source": [
    "import tensorflow as tf\n",
    "tf.debugging.set_log_device_placement(True)\n",
    "import pandas as pd\n",
    "import numpy as np\n",
    "import matplotlib.pyplot as plt\n",
    "from sklearn.model_selection import train_test_split\n",
    "from keras.preprocessing.image import ImageDataGenerator\n",
    "from keras.preprocessing.image import array_to_img,load_img\n",
    "from keras.models import Sequential, Model\n",
    "from keras.models import load_model\n",
    "from keras.layers.advanced_activations import LeakyReLU\n",
    "from keras.layers import Dense, Dropout, Flatten, Conv2D, MaxPooling2D\n",
    "from keras.callbacks import ModelCheckpoint, EarlyStopping\n",
    "import time\n",
    "from sklearn.metrics import classification_report, confusion_matrix, accuracy_score"
   ]
  },
  {
   "cell_type": "code",
   "execution_count": 2,
   "metadata": {},
   "outputs": [],
   "source": [
    "path=\"Dataset/\""
   ]
  },
  {
   "cell_type": "code",
   "execution_count": 3,
   "metadata": {},
   "outputs": [
    {
     "name": "stdout",
     "output_type": "stream",
     "text": [
      "Index(['id', 'gender', 'masterCategory', 'subCategory', 'articleType',\n",
      "       'baseColour', 'season', 'year', 'usage', 'productDisplayName'],\n",
      "      dtype='object')\n"
     ]
    }
   ],
   "source": [
    "metaData=pd.read_excel(path+\"styles.xlsx\")\n",
    "print(metaData.columns)"
   ]
  },
  {
   "cell_type": "markdown",
   "metadata": {},
   "source": [
    "# Preprocessing Dataset For Gender Data"
   ]
  },
  {
   "cell_type": "code",
   "execution_count": 4,
   "metadata": {
    "scrolled": true
   },
   "outputs": [
    {
     "name": "stdout",
     "output_type": "stream",
     "text": [
      "Men       21519\n",
      "Women     16767\n",
      "Unisex     2112\n",
      "Boys        830\n",
      "Girls       655\n",
      "Name: gender, dtype: int64\n"
     ]
    }
   ],
   "source": [
    "final=metaData.loc[metaData['masterCategory'].isin(['Accessories','Apparel','Footwear'])]\n",
    "print(final.gender.value_counts())"
   ]
  },
  {
   "cell_type": "code",
   "execution_count": 5,
   "metadata": {},
   "outputs": [
    {
     "name": "stdout",
     "output_type": "stream",
     "text": [
      "Men       22349\n",
      "Women     17422\n",
      "Unisex     2112\n",
      "Name: gender, dtype: int64\n"
     ]
    },
    {
     "name": "stderr",
     "output_type": "stream",
     "text": [
      "C:\\Users\\lenovo\\Anaconda3\\lib\\site-packages\\pandas\\core\\indexing.py:966: SettingWithCopyWarning: \n",
      "A value is trying to be set on a copy of a slice from a DataFrame.\n",
      "Try using .loc[row_indexer,col_indexer] = value instead\n",
      "\n",
      "See the caveats in the documentation: https://pandas.pydata.org/pandas-docs/stable/user_guide/indexing.html#returning-a-view-versus-a-copy\n",
      "  self.obj[item] = s\n"
     ]
    }
   ],
   "source": [
    "final.loc[final['gender'] =='Boys',\"gender\"]=\"Men\"\n",
    "final.loc[final['gender'] =='Girls',\"gender\"]=\"Women\"\n",
    "print(final.gender.value_counts())"
   ]
  },
  {
   "cell_type": "code",
   "execution_count": 6,
   "metadata": {},
   "outputs": [],
   "source": [
    "X=[(str(x)+\".jpg\") for x in final[\"id\"]]\n",
    "Y=final['gender']"
   ]
  },
  {
   "cell_type": "code",
   "execution_count": 7,
   "metadata": {},
   "outputs": [],
   "source": [
    "X_train,X_test,Y_train,Y_test=train_test_split(X, Y, test_size=0.33, stratify=Y)"
   ]
  },
  {
   "cell_type": "code",
   "execution_count": 8,
   "metadata": {},
   "outputs": [],
   "source": [
    "preprocess=ImageDataGenerator(rescale=1./255)\n",
    "traindf=pd.DataFrame(np.column_stack([X_train,Y_train]), columns=['FileName', 'gender'])\n",
    "testdf=pd.DataFrame(np.column_stack([X_test,Y_test]), columns=['FileName', 'gender'])"
   ]
  },
  {
   "cell_type": "code",
   "execution_count": 9,
   "metadata": {},
   "outputs": [
    {
     "name": "stdout",
     "output_type": "stream",
     "text": [
      "    FileName gender\n",
      "0  54573.jpg  Women\n",
      "1  17498.jpg    Men\n",
      "2  54637.jpg    Men\n",
      "3  34734.jpg  Women\n",
      "4  14282.jpg  Women\n",
      "    FileName  gender\n",
      "0  19634.jpg   Women\n",
      "1   7092.jpg  Unisex\n",
      "2  14858.jpg   Women\n",
      "3  11058.jpg     Men\n",
      "4  29011.jpg     Men\n"
     ]
    }
   ],
   "source": [
    "print(traindf.head())\n",
    "print(testdf.head())\n",
    "batch_size=100"
   ]
  },
  {
   "cell_type": "code",
   "execution_count": 10,
   "metadata": {},
   "outputs": [
    {
     "name": "stdout",
     "output_type": "stream",
     "text": [
      "Found 28061 validated image filenames belonging to 3 classes.\n"
     ]
    }
   ],
   "source": [
    "trainData = preprocess.flow_from_dataframe(\n",
    "    dataframe=traindf,\n",
    "    directory=path+'images/',\n",
    "    x_col = 'FileName',\n",
    "    y_col = 'gender',\n",
    "    target_size = (64,64),\n",
    "    batch_size=batch_size,\n",
    "    shuffle=False\n",
    " )"
   ]
  },
  {
   "cell_type": "code",
   "execution_count": 12,
   "metadata": {},
   "outputs": [
    {
     "name": "stdout",
     "output_type": "stream",
     "text": [
      "Found 13822 validated image filenames belonging to 3 classes.\n"
     ]
    }
   ],
   "source": [
    "with tf.device('/GPU:0'):\n",
    "    testData = preprocess.flow_from_dataframe(\n",
    "        dataframe=testdf, \n",
    "        directory=path+'images/',\n",
    "        x_col = 'FileName', \n",
    "        y_col = 'gender', \n",
    "        target_size = (64,64),\n",
    "        batch_size=1,\n",
    "        shuffle=False\n",
    "    )"
   ]
  },
  {
   "cell_type": "markdown",
   "metadata": {},
   "source": [
    "# Model Creation"
   ]
  },
  {
   "cell_type": "code",
   "execution_count": 13,
   "metadata": {
    "scrolled": true
   },
   "outputs": [
    {
     "name": "stdout",
     "output_type": "stream",
     "text": [
      "Executing op RandomUniform in device /job:localhost/replica:0/task:0/device:GPU:0\n",
      "Executing op Sub in device /job:localhost/replica:0/task:0/device:GPU:0\n",
      "Executing op Mul in device /job:localhost/replica:0/task:0/device:GPU:0\n",
      "Executing op Add in device /job:localhost/replica:0/task:0/device:GPU:0\n",
      "Executing op VarHandleOp in device /job:localhost/replica:0/task:0/device:GPU:0\n",
      "Executing op VarIsInitializedOp in device /job:localhost/replica:0/task:0/device:GPU:0\n",
      "Executing op LogicalNot in device /job:localhost/replica:0/task:0/device:GPU:0\n",
      "Executing op Assert in device /job:localhost/replica:0/task:0/device:GPU:0\n",
      "Executing op AssignVariableOp in device /job:localhost/replica:0/task:0/device:GPU:0\n",
      "Executing op Fill in device /job:localhost/replica:0/task:0/device:GPU:0\n",
      "Executing op VarHandleOp in device /job:localhost/replica:0/task:0/device:GPU:0\n",
      "Executing op RandomUniform in device /job:localhost/replica:0/task:0/device:GPU:0\n",
      "Executing op VarHandleOp in device /job:localhost/replica:0/task:0/device:GPU:0\n",
      "Executing op VarHandleOp in device /job:localhost/replica:0/task:0/device:GPU:0\n",
      "Executing op RandomUniform in device /job:localhost/replica:0/task:0/device:GPU:0\n",
      "Executing op VarHandleOp in device /job:localhost/replica:0/task:0/device:GPU:0\n",
      "Executing op RandomUniform in device /job:localhost/replica:0/task:0/device:GPU:0\n",
      "Executing op VarHandleOp in device /job:localhost/replica:0/task:0/device:GPU:0\n",
      "Executing op VarHandleOp in device /job:localhost/replica:0/task:0/device:GPU:0\n",
      "Model: \"sequential_1\"\n",
      "_________________________________________________________________\n",
      "Layer (type)                 Output Shape              Param #   \n",
      "=================================================================\n",
      "conv2d_1 (Conv2D)            (None, 64, 64, 32)        896       \n",
      "_________________________________________________________________\n",
      "leaky_re_lu_1 (LeakyReLU)    (None, 64, 64, 32)        0         \n",
      "_________________________________________________________________\n",
      "max_pooling2d_1 (MaxPooling2 (None, 32, 32, 32)        0         \n",
      "_________________________________________________________________\n",
      "dropout_1 (Dropout)          (None, 32, 32, 32)        0         \n",
      "_________________________________________________________________\n",
      "conv2d_2 (Conv2D)            (None, 32, 32, 64)        18496     \n",
      "_________________________________________________________________\n",
      "leaky_re_lu_2 (LeakyReLU)    (None, 32, 32, 64)        0         \n",
      "_________________________________________________________________\n",
      "max_pooling2d_2 (MaxPooling2 (None, 16, 16, 64)        0         \n",
      "_________________________________________________________________\n",
      "dropout_2 (Dropout)          (None, 16, 16, 64)        0         \n",
      "_________________________________________________________________\n",
      "flatten_1 (Flatten)          (None, 16384)             0         \n",
      "_________________________________________________________________\n",
      "dense_1 (Dense)              (None, 64)                1048640   \n",
      "_________________________________________________________________\n",
      "leaky_re_lu_3 (LeakyReLU)    (None, 64)                0         \n",
      "_________________________________________________________________\n",
      "dropout_3 (Dropout)          (None, 64)                0         \n",
      "_________________________________________________________________\n",
      "dense_2 (Dense)              (None, 3)                 195       \n",
      "=================================================================\n",
      "Total params: 1,068,227\n",
      "Trainable params: 1,068,227\n",
      "Non-trainable params: 0\n",
      "_________________________________________________________________\n",
      "None\n"
     ]
    }
   ],
   "source": [
    "model = Sequential()\n",
    "model.add(Conv2D(32, kernel_size=(3, 3),activation='linear',padding='same',input_shape=(64,64,3)))\n",
    "model.add(LeakyReLU(alpha=0.1))\n",
    "model.add(MaxPooling2D((2, 2),padding='same'))\n",
    "model.add(Dropout(0.25))\n",
    "model.add(Conv2D(64, (3, 3), activation='linear',padding='same'))\n",
    "model.add(LeakyReLU(alpha=0.1))\n",
    "model.add(MaxPooling2D(pool_size=(2, 2),padding='same'))\n",
    "model.add(Dropout(0.25))\n",
    "# model.add(Conv2D(128, (3, 3), activation='linear',padding='same'))\n",
    "# model.add(LeakyReLU(alpha=0.1))                  \n",
    "# model.add(MaxPooling2D(pool_size=(2, 2),padding='same'))\n",
    "# model.add(Dropout(0.4))\n",
    "model.add(Flatten())\n",
    "model.add(Dense(64, activation='linear'))\n",
    "model.add(LeakyReLU(alpha=0.1))           \n",
    "model.add(Dropout(0.3))\n",
    "model.add(Dense(len(trainData.class_indices), activation='softmax'))\n",
    "print(model.summary())\n"
   ]
  },
  {
   "cell_type": "markdown",
   "metadata": {},
   "source": [
    "# Model compile and train"
   ]
  },
  {
   "cell_type": "code",
   "execution_count": 14,
   "metadata": {},
   "outputs": [
    {
     "name": "stdout",
     "output_type": "stream",
     "text": [
      "Executing op VarHandleOp in device /job:localhost/replica:0/task:0/device:GPU:0\n",
      "Executing op AssignVariableOp in device /job:localhost/replica:0/task:0/device:GPU:0\n",
      "Executing op VarHandleOp in device /job:localhost/replica:0/task:0/device:GPU:0\n"
     ]
    }
   ],
   "source": [
    "model.compile(optimizer='adam', loss='categorical_crossentropy', metrics=['accuracy'])\n",
    "\n",
    "checkpoint = ModelCheckpoint(\"Models/gender_model.h5\", monitor='val_accuracy', verbose=1, save_best_only=True, save_weights_only=False, mode='auto', period=1)\n",
    "early = EarlyStopping(monitor='val_accuracy', min_delta=0, patience=20, verbose=1, mode='auto')\n"
   ]
  },
  {
   "cell_type": "code",
   "execution_count": 15,
   "metadata": {
    "scrolled": false
   },
   "outputs": [
    {
     "name": "stdout",
     "output_type": "stream",
     "text": [
      "Executing op Reshape in device /job:localhost/replica:0/task:0/device:GPU:0\n",
      "Executing op VarHandleOp in device /job:localhost/replica:0/task:0/device:GPU:0\n",
      "Epoch 1/20\n",
      "Executing op __inference_keras_scratch_graph_1403 in device /job:localhost/replica:0/task:0/device:GPU:0\n",
      "280/281 [============================>.] - ETA: 5s - loss: 0.5411 - accuracy: 0.7781 Executing op __inference_keras_scratch_graph_1528 in device /job:localhost/replica:0/task:0/device:GPU:0\n",
      "281/281 [==============================] - 1624s 6s/step - loss: 0.5406 - accuracy: 0.7784 - val_loss: 0.1914 - val_accuracy: 0.8633\n",
      "\n",
      "Epoch 00001: val_accuracy improved from -inf to 0.86331, saving model to Models/gender_model.h5\n",
      "Executing op ReadVariableOp in device /job:localhost/replica:0/task:0/device:GPU:0\n",
      "Executing op Identity in device /job:localhost/replica:0/task:0/device:GPU:0\n",
      "Executing op ReadVariableOp in device /job:localhost/replica:0/task:0/device:GPU:0\n",
      "Executing op Identity in device /job:localhost/replica:0/task:0/device:GPU:0\n",
      "Epoch 2/20\n",
      "281/281 [==============================] - 293s 1s/step - loss: 0.3824 - accuracy: 0.8552 - val_loss: 0.0537 - val_accuracy: 0.9137\n",
      "\n",
      "Epoch 00002: val_accuracy improved from 0.86331 to 0.91367, saving model to Models/gender_model.h5\n",
      "Epoch 3/20\n",
      "281/281 [==============================] - 80s 283ms/step - loss: 0.3403 - accuracy: 0.8714 - val_loss: 0.0153 - val_accuracy: 0.9137\n",
      "\n",
      "Epoch 00003: val_accuracy did not improve from 0.91367\n",
      "Epoch 4/20\n",
      "281/281 [==============================] - 85s 303ms/step - loss: 0.3081 - accuracy: 0.8838 - val_loss: 0.0406 - val_accuracy: 0.8849\n",
      "\n",
      "Epoch 00004: val_accuracy did not improve from 0.91367\n",
      "Epoch 5/20\n",
      "281/281 [==============================] - 89s 316ms/step - loss: 0.2867 - accuracy: 0.8924 - val_loss: 0.0662 - val_accuracy: 0.9065\n",
      "\n",
      "Epoch 00005: val_accuracy did not improve from 0.91367\n",
      "Epoch 6/20\n",
      "281/281 [==============================] - 84s 301ms/step - loss: 0.2679 - accuracy: 0.8994 - val_loss: 1.4321 - val_accuracy: 0.8633\n",
      "\n",
      "Epoch 00006: val_accuracy did not improve from 0.91367\n",
      "Epoch 7/20\n",
      "281/281 [==============================] - 80s 284ms/step - loss: 0.2488 - accuracy: 0.9071 - val_loss: 0.0075 - val_accuracy: 0.8705\n",
      "\n",
      "Epoch 00007: val_accuracy did not improve from 0.91367\n",
      "Epoch 8/20\n",
      "281/281 [==============================] - 78s 276ms/step - loss: 0.2303 - accuracy: 0.9132 - val_loss: 1.7963e-04 - val_accuracy: 0.9065\n",
      "\n",
      "Epoch 00008: val_accuracy did not improve from 0.91367\n",
      "Epoch 9/20\n",
      "281/281 [==============================] - 79s 282ms/step - loss: 0.2160 - accuracy: 0.9188 - val_loss: 0.0085 - val_accuracy: 0.9353\n",
      "\n",
      "Epoch 00009: val_accuracy improved from 0.91367 to 0.93525, saving model to Models/gender_model.h5\n",
      "Epoch 10/20\n",
      "281/281 [==============================] - 82s 293ms/step - loss: 0.2012 - accuracy: 0.9250 - val_loss: 0.1531 - val_accuracy: 0.9353\n",
      "\n",
      "Epoch 00010: val_accuracy did not improve from 0.93525\n",
      "Epoch 11/20\n",
      "281/281 [==============================] - 84s 298ms/step - loss: 0.1923 - accuracy: 0.9305 - val_loss: 4.6610e-05 - val_accuracy: 0.8777\n",
      "\n",
      "Epoch 00011: val_accuracy did not improve from 0.93525\n",
      "Epoch 12/20\n",
      "281/281 [==============================] - 80s 286ms/step - loss: 0.1819 - accuracy: 0.9325 - val_loss: 0.0000e+00 - val_accuracy: 0.8777\n",
      "\n",
      "Epoch 00012: val_accuracy did not improve from 0.93525\n",
      "Epoch 13/20\n",
      "281/281 [==============================] - 84s 301ms/step - loss: 0.1716 - accuracy: 0.9351 - val_loss: 0.0024 - val_accuracy: 0.8993\n",
      "\n",
      "Epoch 00013: val_accuracy did not improve from 0.93525\n",
      "Epoch 14/20\n",
      "281/281 [==============================] - 92s 327ms/step - loss: 0.1614 - accuracy: 0.9391 - val_loss: 0.0269 - val_accuracy: 0.8993\n",
      "\n",
      "Epoch 00014: val_accuracy did not improve from 0.93525\n",
      "Epoch 15/20\n",
      "281/281 [==============================] - 82s 292ms/step - loss: 0.1545 - accuracy: 0.9415 - val_loss: 0.0031 - val_accuracy: 0.8705\n",
      "\n",
      "Epoch 00015: val_accuracy did not improve from 0.93525\n",
      "Epoch 16/20\n",
      "281/281 [==============================] - 78s 276ms/step - loss: 0.1448 - accuracy: 0.9455 - val_loss: 0.2081 - val_accuracy: 0.9281\n",
      "\n",
      "Epoch 00016: val_accuracy did not improve from 0.93525\n",
      "Epoch 17/20\n",
      "281/281 [==============================] - 77s 273ms/step - loss: 0.1385 - accuracy: 0.9482 - val_loss: 2.6255 - val_accuracy: 0.8849\n",
      "\n",
      "Epoch 00017: val_accuracy did not improve from 0.93525\n",
      "Epoch 18/20\n",
      "281/281 [==============================] - 77s 276ms/step - loss: 0.1318 - accuracy: 0.9515 - val_loss: 0.1710 - val_accuracy: 0.8993\n",
      "\n",
      "Epoch 00018: val_accuracy did not improve from 0.93525\n",
      "Epoch 19/20\n",
      "281/281 [==============================] - 74s 264ms/step - loss: 0.1317 - accuracy: 0.9515 - val_loss: 0.0107 - val_accuracy: 0.9353\n",
      "\n",
      "Epoch 00019: val_accuracy did not improve from 0.93525\n",
      "Epoch 20/20\n",
      "281/281 [==============================] - 75s 269ms/step - loss: 0.1260 - accuracy: 0.9520 - val_loss: 1.1956e-04 - val_accuracy: 0.9065\n",
      "\n",
      "Epoch 00020: val_accuracy did not improve from 0.93525\n",
      "Time: 56.42527055342992\n"
     ]
    }
   ],
   "source": [
    "start = time.time()\n",
    "hist = model.fit_generator(\n",
    "    generator=trainData, \n",
    "    steps_per_epoch=int(np.ceil(trainData.n/batch_size)), \n",
    "    validation_data=testData, \n",
    "    validation_steps=int(np.ceil(testData.n/batch_size)),\n",
    "    epochs=20,\n",
    "    callbacks=[checkpoint,early],\n",
    "    verbose=1\n",
    "  )\n",
    "end = time.time()\n",
    "print('Time:',(end - start)/60)"
   ]
  },
  {
   "cell_type": "markdown",
   "metadata": {},
   "source": [
    "# Model Evaluate"
   ]
  },
  {
   "cell_type": "code",
   "execution_count": 16,
   "metadata": {},
   "outputs": [
    {
     "name": "stdout",
     "output_type": "stream",
     "text": [
      "13822/13822 [==============================] - 624s 45ms/step\n",
      "Test loss: 0.0\n",
      "Test accuracy: 0.910143256187439\n"
     ]
    }
   ],
   "source": [
    "model_evaluate=model.evaluate_generator(generator=testData,verbose=1)\n",
    "print('Test loss:', model_evaluate[0])\n",
    "print('Test accuracy:', model_evaluate[1])"
   ]
  },
  {
   "cell_type": "code",
   "execution_count": 17,
   "metadata": {
    "scrolled": true
   },
   "outputs": [
    {
     "data": {
      "image/png": "[encoded data removed]",
      "text/plain": [
       "<Figure size 432x288 with 1 Axes>"
      ]
     },
     "metadata": {
      "needs_background": "light"
     },
     "output_type": "display_data"
    },
    {
     "data": {
      "image/png": "[encoded data removed]",
      "text/plain": [
       "<Figure size 432x288 with 1 Axes>"
      ]
     },
     "metadata": {
      "needs_background": "light"
     },
     "output_type": "display_data"
    }
   ],
   "source": [
    "accuracy = hist.history['accuracy']\n",
    "val_accuracy = hist.history['val_accuracy']\n",
    "loss = hist.history['loss']\n",
    "val_loss = hist.history['val_loss']\n",
    "epochs = range(len(accuracy))\n",
    "plt.plot(epochs, accuracy, 'bo', label='Training accuracy')\n",
    "plt.plot(epochs, val_accuracy, 'b', label='Validation accuracy')\n",
    "plt.title('Training and validation accuracy')\n",
    "plt.legend()\n",
    "plt.figure()\n",
    "plt.plot(epochs, loss, 'bo', label='Training loss')\n",
    "plt.plot(epochs, val_loss, 'b', label='Validation loss')\n",
    "plt.title('Training and validation loss')\n",
    "plt.legend()\n",
    "plt.show()"
   ]
  },
  {
   "cell_type": "markdown",
   "metadata": {},
   "source": [
    "# Prediction on test Dataset"
   ]
  },
  {
   "cell_type": "code",
   "execution_count": 43,
   "metadata": {
    "scrolled": true
   },
   "outputs": [
    {
     "name": "stdout",
     "output_type": "stream",
     "text": [
      "13822/13822 [==============================] - 72s 5ms/step\n"
     ]
    }
   ],
   "source": [
    "predict_test=model.predict_generator(generator=testData,verbose=1)"
   ]
  },
  {
   "cell_type": "code",
   "execution_count": 44,
   "metadata": {},
   "outputs": [],
   "source": [
    "predicted_testclasses = np.argmax(predict_test, axis=1)"
   ]
  },
  {
   "cell_type": "code",
   "execution_count": 45,
   "metadata": {},
   "outputs": [],
   "source": [
    "true_testclasses = testData.classes"
   ]
  },
  {
   "cell_type": "code",
   "execution_count": 46,
   "metadata": {
    "scrolled": true
   },
   "outputs": [
    {
     "name": "stdout",
     "output_type": "stream",
     "text": [
      "              precision    recall  f1-score   support\n",
      "\n",
      "           0       0.91      0.95      0.93      7375\n",
      "           1       0.67      0.48      0.56       697\n",
      "           2       0.93      0.91      0.92      5750\n",
      "\n",
      "    accuracy                           0.91     13822\n",
      "   macro avg       0.84      0.78      0.80     13822\n",
      "weighted avg       0.91      0.91      0.91     13822\n",
      "\n"
     ]
    }
   ],
   "source": [
    "print(classification_report(true_testclasses,predicted_testclasses))"
   ]
  },
  {
   "cell_type": "markdown",
   "metadata": {},
   "source": [
    "# Prediction on Train Dataset"
   ]
  },
  {
   "cell_type": "code",
   "execution_count": 22,
   "metadata": {},
   "outputs": [
    {
     "name": "stdout",
     "output_type": "stream",
     "text": [
      "183/281 [==================>...........] - ETA: 1:07"
     ]
    },
    {
     "name": "stderr",
     "output_type": "stream",
     "text": [
      "C:\\Users\\lenovo\\Anaconda3\\lib\\site-packages\\keras\\utils\\data_utils.py:616: UserWarning: The input 183 could not be retrieved. It could be because a worker has died.\n",
      "  UserWarning)\n"
     ]
    },
    {
     "name": "stdout",
     "output_type": "stream",
     "text": [
      "281/281 [==============================] - 211s 750ms/step\n"
     ]
    }
   ],
   "source": [
    "predict_train=model.predict_generator(generator=trainData,verbose=1)"
   ]
  },
  {
   "cell_type": "code",
   "execution_count": 23,
   "metadata": {},
   "outputs": [],
   "source": [
    "predicted_trainClasses = np.argmax(predict_train, axis=1)"
   ]
  },
  {
   "cell_type": "code",
   "execution_count": 24,
   "metadata": {},
   "outputs": [],
   "source": [
    "true_trainclasses = trainData.classes"
   ]
  },
  {
   "cell_type": "code",
   "execution_count": 25,
   "metadata": {
    "scrolled": false
   },
   "outputs": [
    {
     "name": "stdout",
     "output_type": "stream",
     "text": [
      "              precision    recall  f1-score   support\n",
      "\n",
      "           0       0.98      0.99      0.98     14974\n",
      "           1       0.98      0.87      0.92      1415\n",
      "           2       0.99      0.98      0.98     11672\n",
      "\n",
      "    accuracy                           0.98     28061\n",
      "   macro avg       0.98      0.95      0.96     28061\n",
      "weighted avg       0.98      0.98      0.98     28061\n",
      "\n"
     ]
    }
   ],
   "source": [
    "print(classification_report(true_trainclasses,predicted_trainClasses))"
   ]
  },
  {
   "cell_type": "markdown",
   "metadata": {},
   "source": [
    "# Feature Extraction"
   ]
  },
  {
   "cell_type": "code",
   "execution_count": 27,
   "metadata": {
    "scrolled": true
   },
   "outputs": [
    {
     "name": "stdout",
     "output_type": "stream",
     "text": [
      "Model: \"model_1\"\n",
      "_________________________________________________________________\n",
      "Layer (type)                 Output Shape              Param #   \n",
      "=================================================================\n",
      "conv2d_1_input (InputLayer)  (None, 64, 64, 3)         0         \n",
      "_________________________________________________________________\n",
      "conv2d_1 (Conv2D)            (None, 64, 64, 32)        896       \n",
      "_________________________________________________________________\n",
      "leaky_re_lu_1 (LeakyReLU)    (None, 64, 64, 32)        0         \n",
      "_________________________________________________________________\n",
      "max_pooling2d_1 (MaxPooling2 (None, 32, 32, 32)        0         \n",
      "_________________________________________________________________\n",
      "dropout_1 (Dropout)          (None, 32, 32, 32)        0         \n",
      "_________________________________________________________________\n",
      "conv2d_2 (Conv2D)            (None, 32, 32, 64)        18496     \n",
      "_________________________________________________________________\n",
      "leaky_re_lu_2 (LeakyReLU)    (None, 32, 32, 64)        0         \n",
      "_________________________________________________________________\n",
      "max_pooling2d_2 (MaxPooling2 (None, 16, 16, 64)        0         \n",
      "_________________________________________________________________\n",
      "dropout_2 (Dropout)          (None, 16, 16, 64)        0         \n",
      "_________________________________________________________________\n",
      "flatten_1 (Flatten)          (None, 16384)             0         \n",
      "_________________________________________________________________\n",
      "dense_1 (Dense)              (None, 64)                1048640   \n",
      "_________________________________________________________________\n",
      "leaky_re_lu_3 (LeakyReLU)    (None, 64)                0         \n",
      "=================================================================\n",
      "Total params: 1,068,032\n",
      "Trainable params: 1,068,032\n",
      "Non-trainable params: 0\n",
      "_________________________________________________________________\n"
     ]
    }
   ],
   "source": [
    "feature_model = Model(inputs=model.inputs,outputs=model.get_layer('leaky_re_lu_3').output)\n",
    "feature_model.summary()"
   ]
  },
  {
   "cell_type": "code",
   "execution_count": 28,
   "metadata": {},
   "outputs": [
    {
     "name": "stdout",
     "output_type": "stream",
     "text": [
      "Executing op __inference_keras_scratch_graph_177590 in device /job:localhost/replica:0/task:0/device:GPU:0\n",
      "281/281 [==============================] - 90s 319ms/step\n"
     ]
    }
   ],
   "source": [
    "train_feature=feature_model.predict_generator(trainData,verbose=1)\n",
    "train_feature=pd.DataFrame(train_feature)"
   ]
  },
  {
   "cell_type": "code",
   "execution_count": 29,
   "metadata": {},
   "outputs": [
    {
     "name": "stdout",
     "output_type": "stream",
     "text": [
      "13822/13822 [==============================] - 69s 5ms/step\n"
     ]
    }
   ],
   "source": [
    "test_feature=feature_model.predict_generator(testData,verbose=1)\n",
    "test_feature=pd.DataFrame(test_feature)"
   ]
  },
  {
   "cell_type": "code",
   "execution_count": 32,
   "metadata": {},
   "outputs": [
    {
     "data": {
      "text/plain": [
       "Index(['Unnamed: 0', '0', '1', '2', '3', '4', '5', '6', '7', '8', '9', '10',\n",
       "       '11', '12', '13', '14', '15', '16', '17', '18', '19', '20', '21', '22',\n",
       "       '23', '24', '25', '26', '27', '28', '29', '30', '31', '32', '33', '34',\n",
       "       '35', '36', '37', '38', '39', '40', '41', '42', '43', '44', '45', '46',\n",
       "       '47', '48', '49', '50', '51', '52', '53', '54', '55', '56', '57', '58',\n",
       "       '59', '60', '61', '62', '63'],\n",
       "      dtype='object')"
      ]
     },
     "execution_count": 32,
     "metadata": {},
     "output_type": "execute_result"
    }
   ],
   "source": [
    "train_feature.columns\n",
    "test_feature.columns"
   ]
  },
  {
   "cell_type": "code",
   "execution_count": 34,
   "metadata": {},
   "outputs": [],
   "source": [
    "test_feature = pd.concat([testdf,test_feature], axis =1)\n",
    "train_feature = pd.concat([traindf,train_feature], axis =1)"
   ]
  },
  {
   "cell_type": "code",
   "execution_count": 35,
   "metadata": {},
   "outputs": [
    {
     "name": "stdout",
     "output_type": "stream",
     "text": [
      "    FileName  gender         0         1         2         3         4  \\\n",
      "0  19634.jpg   Women -0.132837 -0.609280  5.967240 -0.283872 -0.133579   \n",
      "1   7092.jpg  Unisex -0.170861 -0.158958 -0.382392 -0.069160 -0.405637   \n",
      "2  14858.jpg   Women -0.446347  1.943702 -0.127529  2.776503 -0.110135   \n",
      "3  11058.jpg     Men  3.235393  3.566104 -0.132156  2.600274  9.771614   \n",
      "4  29011.jpg     Men  4.611821 -0.251916 -0.153361 -0.073425  7.260854   \n",
      "\n",
      "          5         6         7  ...        54        55        56        57  \\\n",
      "0 -0.438107 -0.653195 -0.475299  ... -0.189794 -0.682738  3.917785 -0.005261   \n",
      "1  2.702091  2.842383 -0.293132  ... -0.258333 -0.020025 -0.139591 -0.345986   \n",
      "2 -0.319593 -0.759647  0.954713  ... -0.097764  2.766940 -0.555861 -0.229967   \n",
      "3 -0.569992 -0.671537  5.950741  ... -0.491596 -0.342698 -0.322562  5.244507   \n",
      "4  0.349912 -0.966692  6.648393  ... -0.574005 -0.709595 -0.449382  5.439957   \n",
      "\n",
      "         58        59        60        61        62        63  \n",
      "0 -0.524553 -0.061034  1.829298 -0.933475 -0.966815  1.205960  \n",
      "1 -0.587658 -0.371933  2.544652  1.522076  0.006266 -0.166679  \n",
      "2 -0.350426 -0.387605 -0.474839 -0.498970 -0.043681 -0.543084  \n",
      "3 -1.016179 -0.202539  0.782958 -0.767531 -0.590757 -0.014841  \n",
      "4 -1.170821 -0.851284 -0.088853 -0.910798 -0.664750 -0.467341  \n",
      "\n",
      "[5 rows x 66 columns]\n",
      "    FileName gender         0         1         2         3         4  \\\n",
      "0  54573.jpg  Women -0.505371 -0.034741  6.079105  3.965164 -0.314869   \n",
      "1  17498.jpg    Men  3.536683 -0.276872 -0.040369 -0.046161  5.828104   \n",
      "2  54637.jpg    Men -0.977205  5.503170 -0.625293  4.570228 -0.497504   \n",
      "3  34734.jpg  Women -0.162515  1.528545 -0.314910  0.541193 -0.189441   \n",
      "4  14282.jpg  Women  1.708245 -0.195614 -0.493684  2.934121 -0.034934   \n",
      "\n",
      "          5         6         7  ...        54        55        56        57  \\\n",
      "0 -0.275769 -0.659338 -0.689522  ...  5.738858 -0.412423  9.295035 -0.602998   \n",
      "1 -0.523259 -0.368267  4.323132  ... -0.255124 -0.137213 -0.308732  5.109292   \n",
      "2  5.714490 -1.095351 -0.589814  ... -0.726649 -0.725387 -0.800060 -0.262432   \n",
      "3 -0.506216 -0.037499 -0.104600  ...  1.154302 -0.146656  0.982755 -0.169813   \n",
      "4 -0.399515  0.729050 -0.744348  ... -0.492460 -0.302943 -0.491690 -0.259854   \n",
      "\n",
      "         58        59        60        61        62        63  \n",
      "0 -0.821467  8.504290 -0.207903 -0.760496 -0.832065  7.885140  \n",
      "1 -0.549233 -0.647911  3.565835 -0.582418 -0.461425  0.366422  \n",
      "2 -1.003426 -0.748427 -1.279850 -0.944315 -0.668422 -0.059245  \n",
      "3 -0.343470 -0.289411 -0.498558  0.157491 -0.331570 -0.360295  \n",
      "4 -0.412794 -0.517919 -0.769742 -0.372048  1.749447 -0.079235  \n",
      "\n",
      "[5 rows x 66 columns]\n"
     ]
    }
   ],
   "source": [
    "print(test_feature.head())\n",
    "print(train_feature.head())"
   ]
  },
  {
   "cell_type": "code",
   "execution_count": 36,
   "metadata": {},
   "outputs": [],
   "source": [
    "train_feature.to_csv('Features/gender_train_feature.csv', index = False, header=True)\n",
    "test_feature.to_csv('Features/gender_test_feature.csv', index = False, header=True)"
   ]
  },
  {
   "cell_type": "code",
   "execution_count": 37,
   "metadata": {},
   "outputs": [
    {
     "data": {
      "text/plain": [
       "Index(['FileName', 'gender', '0', '1', '2', '3', '4', '5', '6', '7', '8', '9',\n",
       "       '10', '11', '12', '13', '14', '15', '16', '17', '18', '19', '20', '21',\n",
       "       '22', '23', '24', '25', '26', '27', '28', '29', '30', '31', '32', '33',\n",
       "       '34', '35', '36', '37', '38', '39', '40', '41', '42', '43', '44', '45',\n",
       "       '46', '47', '48', '49', '50', '51', '52', '53', '54', '55', '56', '57',\n",
       "       '58', '59', '60', '61', '62', '63'],\n",
       "      dtype='object')"
      ]
     },
     "execution_count": 37,
     "metadata": {},
     "output_type": "execute_result"
    }
   ],
   "source": [
    "tr=pd.read_csv('Features/gender_train_feature.csv')\n",
    "te=pd.read_csv('Features/gender_test_feature.csv')\n",
    "tr.columns\n",
    "te.columns"
   ]
  },
  {
   "cell_type": "code",
   "execution_count": 38,
   "metadata": {
    "scrolled": true
   },
   "outputs": [
    {
     "data": {
      "text/html": [
       "<div>\n",
       "<style scoped>\n",
       "    .dataframe tbody tr th:only-of-type {\n",
       "        vertical-align: middle;\n",
       "    }\n",
       "\n",
       "    .dataframe tbody tr th {\n",
       "        vertical-align: top;\n",
       "    }\n",
       "\n",
       "    .dataframe thead th {\n",
       "        text-align: right;\n",
       "    }\n",
       "</style>\n",
       "<table border=\"1\" class=\"dataframe\">\n",
       "  <thead>\n",
       "    <tr style=\"text-align: right;\">\n",
       "      <th></th>\n",
       "      <th>FileName</th>\n",
       "      <th>gender</th>\n",
       "      <th>0</th>\n",
       "      <th>1</th>\n",
       "      <th>2</th>\n",
       "      <th>3</th>\n",
       "      <th>4</th>\n",
       "      <th>5</th>\n",
       "      <th>6</th>\n",
       "      <th>7</th>\n",
       "      <th>...</th>\n",
       "      <th>54</th>\n",
       "      <th>55</th>\n",
       "      <th>56</th>\n",
       "      <th>57</th>\n",
       "      <th>58</th>\n",
       "      <th>59</th>\n",
       "      <th>60</th>\n",
       "      <th>61</th>\n",
       "      <th>62</th>\n",
       "      <th>63</th>\n",
       "    </tr>\n",
       "  </thead>\n",
       "  <tbody>\n",
       "    <tr>\n",
       "      <th>0</th>\n",
       "      <td>19634.jpg</td>\n",
       "      <td>Women</td>\n",
       "      <td>-0.132837</td>\n",
       "      <td>-0.609280</td>\n",
       "      <td>5.967240</td>\n",
       "      <td>-0.283872</td>\n",
       "      <td>-0.133579</td>\n",
       "      <td>-0.438107</td>\n",
       "      <td>-0.653195</td>\n",
       "      <td>-0.475299</td>\n",
       "      <td>...</td>\n",
       "      <td>-0.189794</td>\n",
       "      <td>-0.682738</td>\n",
       "      <td>3.917785</td>\n",
       "      <td>-0.005261</td>\n",
       "      <td>-0.524553</td>\n",
       "      <td>-0.061034</td>\n",
       "      <td>1.829298</td>\n",
       "      <td>-0.933475</td>\n",
       "      <td>-0.966815</td>\n",
       "      <td>1.205960</td>\n",
       "    </tr>\n",
       "    <tr>\n",
       "      <th>1</th>\n",
       "      <td>7092.jpg</td>\n",
       "      <td>Unisex</td>\n",
       "      <td>-0.170861</td>\n",
       "      <td>-0.158958</td>\n",
       "      <td>-0.382392</td>\n",
       "      <td>-0.069160</td>\n",
       "      <td>-0.405637</td>\n",
       "      <td>2.702091</td>\n",
       "      <td>2.842383</td>\n",
       "      <td>-0.293132</td>\n",
       "      <td>...</td>\n",
       "      <td>-0.258333</td>\n",
       "      <td>-0.020025</td>\n",
       "      <td>-0.139591</td>\n",
       "      <td>-0.345986</td>\n",
       "      <td>-0.587658</td>\n",
       "      <td>-0.371933</td>\n",
       "      <td>2.544652</td>\n",
       "      <td>1.522076</td>\n",
       "      <td>0.006266</td>\n",
       "      <td>-0.166679</td>\n",
       "    </tr>\n",
       "    <tr>\n",
       "      <th>2</th>\n",
       "      <td>14858.jpg</td>\n",
       "      <td>Women</td>\n",
       "      <td>-0.446347</td>\n",
       "      <td>1.943702</td>\n",
       "      <td>-0.127529</td>\n",
       "      <td>2.776503</td>\n",
       "      <td>-0.110135</td>\n",
       "      <td>-0.319593</td>\n",
       "      <td>-0.759647</td>\n",
       "      <td>0.954713</td>\n",
       "      <td>...</td>\n",
       "      <td>-0.097764</td>\n",
       "      <td>2.766940</td>\n",
       "      <td>-0.555861</td>\n",
       "      <td>-0.229967</td>\n",
       "      <td>-0.350426</td>\n",
       "      <td>-0.387605</td>\n",
       "      <td>-0.474839</td>\n",
       "      <td>-0.498970</td>\n",
       "      <td>-0.043681</td>\n",
       "      <td>-0.543084</td>\n",
       "    </tr>\n",
       "    <tr>\n",
       "      <th>3</th>\n",
       "      <td>11058.jpg</td>\n",
       "      <td>Men</td>\n",
       "      <td>3.235393</td>\n",
       "      <td>3.566104</td>\n",
       "      <td>-0.132156</td>\n",
       "      <td>2.600274</td>\n",
       "      <td>9.771614</td>\n",
       "      <td>-0.569992</td>\n",
       "      <td>-0.671537</td>\n",
       "      <td>5.950741</td>\n",
       "      <td>...</td>\n",
       "      <td>-0.491596</td>\n",
       "      <td>-0.342698</td>\n",
       "      <td>-0.322562</td>\n",
       "      <td>5.244507</td>\n",
       "      <td>-1.016179</td>\n",
       "      <td>-0.202539</td>\n",
       "      <td>0.782958</td>\n",
       "      <td>-0.767531</td>\n",
       "      <td>-0.590757</td>\n",
       "      <td>-0.014841</td>\n",
       "    </tr>\n",
       "    <tr>\n",
       "      <th>4</th>\n",
       "      <td>29011.jpg</td>\n",
       "      <td>Men</td>\n",
       "      <td>4.611821</td>\n",
       "      <td>-0.251916</td>\n",
       "      <td>-0.153361</td>\n",
       "      <td>-0.073425</td>\n",
       "      <td>7.260854</td>\n",
       "      <td>0.349912</td>\n",
       "      <td>-0.966692</td>\n",
       "      <td>6.648393</td>\n",
       "      <td>...</td>\n",
       "      <td>-0.574005</td>\n",
       "      <td>-0.709595</td>\n",
       "      <td>-0.449382</td>\n",
       "      <td>5.439957</td>\n",
       "      <td>-1.170821</td>\n",
       "      <td>-0.851284</td>\n",
       "      <td>-0.088853</td>\n",
       "      <td>-0.910798</td>\n",
       "      <td>-0.664750</td>\n",
       "      <td>-0.467341</td>\n",
       "    </tr>\n",
       "  </tbody>\n",
       "</table>\n",
       "<p>5 rows × 66 columns</p>\n",
       "</div>"
      ],
      "text/plain": [
       "    FileName  gender         0         1         2         3         4  \\\n",
       "0  19634.jpg   Women -0.132837 -0.609280  5.967240 -0.283872 -0.133579   \n",
       "1   7092.jpg  Unisex -0.170861 -0.158958 -0.382392 -0.069160 -0.405637   \n",
       "2  14858.jpg   Women -0.446347  1.943702 -0.127529  2.776503 -0.110135   \n",
       "3  11058.jpg     Men  3.235393  3.566104 -0.132156  2.600274  9.771614   \n",
       "4  29011.jpg     Men  4.611821 -0.251916 -0.153361 -0.073425  7.260854   \n",
       "\n",
       "          5         6         7  ...        54        55        56        57  \\\n",
       "0 -0.438107 -0.653195 -0.475299  ... -0.189794 -0.682738  3.917785 -0.005261   \n",
       "1  2.702091  2.842383 -0.293132  ... -0.258333 -0.020025 -0.139591 -0.345986   \n",
       "2 -0.319593 -0.759647  0.954713  ... -0.097764  2.766940 -0.555861 -0.229967   \n",
       "3 -0.569992 -0.671537  5.950741  ... -0.491596 -0.342698 -0.322562  5.244507   \n",
       "4  0.349912 -0.966692  6.648393  ... -0.574005 -0.709595 -0.449382  5.439957   \n",
       "\n",
       "         58        59        60        61        62        63  \n",
       "0 -0.524553 -0.061034  1.829298 -0.933475 -0.966815  1.205960  \n",
       "1 -0.587658 -0.371933  2.544652  1.522076  0.006266 -0.166679  \n",
       "2 -0.350426 -0.387605 -0.474839 -0.498970 -0.043681 -0.543084  \n",
       "3 -1.016179 -0.202539  0.782958 -0.767531 -0.590757 -0.014841  \n",
       "4 -1.170821 -0.851284 -0.088853 -0.910798 -0.664750 -0.467341  \n",
       "\n",
       "[5 rows x 66 columns]"
      ]
     },
     "execution_count": 38,
     "metadata": {},
     "output_type": "execute_result"
    }
   ],
   "source": [
    "te.head()"
   ]
  },
  {
   "cell_type": "code",
   "execution_count": 39,
   "metadata": {},
   "outputs": [
    {
     "name": "stdout",
     "output_type": "stream",
     "text": [
      "Executing op RandomUniform in device /job:localhost/replica:0/task:0/device:GPU:0\n",
      "Executing op RandomUniform in device /job:localhost/replica:0/task:0/device:GPU:0\n",
      "Executing op RandomUniform in device /job:localhost/replica:0/task:0/device:GPU:0\n",
      "Executing op RandomUniform in device /job:localhost/replica:0/task:0/device:GPU:0\n",
      "Model: \"sequential_1\"\n",
      "_________________________________________________________________\n",
      "Layer (type)                 Output Shape              Param #   \n",
      "=================================================================\n",
      "conv2d_1 (Conv2D)            (None, 64, 64, 32)        896       \n",
      "_________________________________________________________________\n",
      "leaky_re_lu_1 (LeakyReLU)    (None, 64, 64, 32)        0         \n",
      "_________________________________________________________________\n",
      "max_pooling2d_1 (MaxPooling2 (None, 32, 32, 32)        0         \n",
      "_________________________________________________________________\n",
      "dropout_1 (Dropout)          (None, 32, 32, 32)        0         \n",
      "_________________________________________________________________\n",
      "conv2d_2 (Conv2D)            (None, 32, 32, 64)        18496     \n",
      "_________________________________________________________________\n",
      "leaky_re_lu_2 (LeakyReLU)    (None, 32, 32, 64)        0         \n",
      "_________________________________________________________________\n",
      "max_pooling2d_2 (MaxPooling2 (None, 16, 16, 64)        0         \n",
      "_________________________________________________________________\n",
      "dropout_2 (Dropout)          (None, 16, 16, 64)        0         \n",
      "_________________________________________________________________\n",
      "flatten_1 (Flatten)          (None, 16384)             0         \n",
      "_________________________________________________________________\n",
      "dense_1 (Dense)              (None, 64)                1048640   \n",
      "_________________________________________________________________\n",
      "leaky_re_lu_3 (LeakyReLU)    (None, 64)                0         \n",
      "_________________________________________________________________\n",
      "dropout_3 (Dropout)          (None, 64)                0         \n",
      "_________________________________________________________________\n",
      "dense_2 (Dense)              (None, 3)                 195       \n",
      "=================================================================\n",
      "Total params: 1,068,227\n",
      "Trainable params: 1,068,227\n",
      "Non-trainable params: 0\n",
      "_________________________________________________________________\n",
      "None\n"
     ]
    }
   ],
   "source": [
    "mod=load_model('Models/gender_model.h5')\n",
    "print(mod.summary())"
   ]
  },
  {
   "cell_type": "code",
   "execution_count": 47,
   "metadata": {},
   "outputs": [
    {
     "name": "stdout",
     "output_type": "stream",
     "text": [
      "Model: \"model_1\"\n",
      "_________________________________________________________________\n",
      "Layer (type)                 Output Shape              Param #   \n",
      "=================================================================\n",
      "conv2d_1_input (InputLayer)  (None, 64, 64, 3)         0         \n",
      "_________________________________________________________________\n",
      "conv2d_1 (Conv2D)            (None, 64, 64, 32)        896       \n",
      "_________________________________________________________________\n",
      "leaky_re_lu_1 (LeakyReLU)    (None, 64, 64, 32)        0         \n",
      "_________________________________________________________________\n",
      "max_pooling2d_1 (MaxPooling2 (None, 32, 32, 32)        0         \n",
      "_________________________________________________________________\n",
      "dropout_1 (Dropout)          (None, 32, 32, 32)        0         \n",
      "_________________________________________________________________\n",
      "conv2d_2 (Conv2D)            (None, 32, 32, 64)        18496     \n",
      "_________________________________________________________________\n",
      "leaky_re_lu_2 (LeakyReLU)    (None, 32, 32, 64)        0         \n",
      "_________________________________________________________________\n",
      "max_pooling2d_2 (MaxPooling2 (None, 16, 16, 64)        0         \n",
      "_________________________________________________________________\n",
      "dropout_2 (Dropout)          (None, 16, 16, 64)        0         \n",
      "_________________________________________________________________\n",
      "flatten_1 (Flatten)          (None, 16384)             0         \n",
      "_________________________________________________________________\n",
      "dense_1 (Dense)              (None, 64)                1048640   \n",
      "_________________________________________________________________\n",
      "leaky_re_lu_3 (LeakyReLU)    (None, 64)                0         \n",
      "=================================================================\n",
      "Total params: 1,068,032\n",
      "Trainable params: 1,068,032\n",
      "Non-trainable params: 0\n",
      "_________________________________________________________________\n"
     ]
    }
   ],
   "source": [
    "feature_model.summary()\n",
    "feature_model.save('Models/gender_featureExtractor.h5')"
   ]
  },
  {
   "cell_type": "code",
   "execution_count": 48,
   "metadata": {},
   "outputs": [
    {
     "name": "stdout",
     "output_type": "stream",
     "text": [
      "Executing op RandomUniform in device /job:localhost/replica:0/task:0/device:GPU:0\n",
      "Executing op RandomUniform in device /job:localhost/replica:0/task:0/device:GPU:0\n",
      "Executing op RandomUniform in device /job:localhost/replica:0/task:0/device:GPU:0\n",
      "Model: \"model_1\"\n",
      "_________________________________________________________________\n",
      "Layer (type)                 Output Shape              Param #   \n",
      "=================================================================\n",
      "conv2d_1_input (InputLayer)  (None, 64, 64, 3)         0         \n",
      "_________________________________________________________________\n",
      "conv2d_1 (Conv2D)            (None, 64, 64, 32)        896       \n",
      "_________________________________________________________________\n",
      "leaky_re_lu_1 (LeakyReLU)    (None, 64, 64, 32)        0         \n",
      "_________________________________________________________________\n",
      "max_pooling2d_1 (MaxPooling2 (None, 32, 32, 32)        0         \n",
      "_________________________________________________________________\n",
      "dropout_1 (Dropout)          (None, 32, 32, 32)        0         \n",
      "_________________________________________________________________\n",
      "conv2d_2 (Conv2D)            (None, 32, 32, 64)        18496     \n",
      "_________________________________________________________________\n",
      "leaky_re_lu_2 (LeakyReLU)    (None, 32, 32, 64)        0         \n",
      "_________________________________________________________________\n",
      "max_pooling2d_2 (MaxPooling2 (None, 16, 16, 64)        0         \n",
      "_________________________________________________________________\n",
      "dropout_2 (Dropout)          (None, 16, 16, 64)        0         \n",
      "_________________________________________________________________\n",
      "flatten_1 (Flatten)          (None, 16384)             0         \n",
      "_________________________________________________________________\n",
      "dense_1 (Dense)              (None, 64)                1048640   \n",
      "_________________________________________________________________\n",
      "leaky_re_lu_3 (LeakyReLU)    (None, 64)                0         \n",
      "=================================================================\n",
      "Total params: 1,068,032\n",
      "Trainable params: 1,068,032\n",
      "Non-trainable params: 0\n",
      "_________________________________________________________________\n"
     ]
    }
   ],
   "source": [
    "fmod=load_model('Models/gender_featureExtractor.h5')\n",
    "fmod.summary()"
   ]
  },
  {
   "cell_type": "code",
   "execution_count": null,
   "metadata": {},
   "outputs": [],
   "source": []
  }
 ],
 "metadata": {
  "kernelspec": {
   "display_name": "Python 3",
   "language": "python",
   "name": "python3"
  },
  "language_info": {
   "codemirror_mode": {
    "name": "ipython",
    "version": 3
   },
   "file_extension": ".py",
   "mimetype": "text/x-python",
   "name": "python",
   "nbconvert_exporter": "python",
   "pygments_lexer": "ipython3",
   "version": "3.7.4"
  }
 },
 "nbformat": 4,
 "nbformat_minor": 4
}
