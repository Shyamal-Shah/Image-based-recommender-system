{
 "cells": [
  {
   "cell_type": "code",
   "execution_count": 91,
   "metadata": {},
   "outputs": [],
   "source": [
    "import pandas as pd\n",
    "import numpy as np\n",
    "import matplotlib.pyplot as plt\n",
    "from sklearn.model_selection import train_test_split\n",
    "from keras.preprocessing.image import ImageDataGenerator\n",
    "from keras.preprocessing.image import array_to_img,load_img\n",
    "from keras.models import Sequential, Model\n",
    "from keras.models import load_model\n",
    "from keras.layers.advanced_activations import LeakyReLU\n",
    "from keras.layers import Dense, Dropout, Flatten, Conv2D, MaxPooling2D\n",
    "from keras.callbacks import ModelCheckpoint, EarlyStopping\n",
    "import time\n",
    "from sklearn.metrics import classification_report, confusion_matrix"
   ]
  },
  {
   "cell_type": "code",
   "execution_count": 2,
   "metadata": {},
   "outputs": [],
   "source": [
    "path=\"Dataset/\""
   ]
  },
  {
   "cell_type": "code",
   "execution_count": 3,
   "metadata": {},
   "outputs": [
    {
     "name": "stdout",
     "output_type": "stream",
     "text": [
      "Index(['id', 'gender', 'masterCategory', 'subCategory', 'articleType',\n",
      "       'baseColour', 'season', 'year', 'usage', 'productDisplayName'],\n",
      "      dtype='object')\n"
     ]
    }
   ],
   "source": [
    "metaData=pd.read_excel(path+\"styles.xlsx\")\n",
    "print(metaData.columns)"
   ]
  },
  {
   "cell_type": "code",
   "execution_count": 4,
   "metadata": {
    "scrolled": true
   },
   "outputs": [
    {
     "data": {
      "text/plain": [
       "Tshirts               7068\n",
       "Shirts                3212\n",
       "Casual Shoes          2846\n",
       "Watches               2541\n",
       "Sports Shoes          2035\n",
       "                      ... \n",
       "Tablet Sleeve            3\n",
       "Lounge Tshirts           3\n",
       "Rain Trousers            2\n",
       "Key chain                2\n",
       "Ties and Cufflinks       2\n",
       "Name: articleType, Length: 104, dtype: int64"
      ]
     },
     "execution_count": 4,
     "metadata": {},
     "output_type": "execute_result"
    }
   ],
   "source": [
    "final=metaData.loc[metaData['masterCategory'].isin(['Accessories','Apparel','Footwear'])]\n",
    "final.articleType.value_counts()"
   ]
  },
  {
   "cell_type": "code",
   "execution_count": 5,
   "metadata": {},
   "outputs": [],
   "source": [
    "temp=final.articleType.value_counts()"
   ]
  },
  {
   "cell_type": "code",
   "execution_count": 6,
   "metadata": {},
   "outputs": [],
   "source": [
    "dropList=[]\n",
    "for i in range(len(temp)):\n",
    "    if(temp[i]>20):\n",
    "        dropList.append(temp.index[i])"
   ]
  },
  {
   "cell_type": "code",
   "execution_count": 7,
   "metadata": {
    "scrolled": true
   },
   "outputs": [
    {
     "data": {
      "text/plain": [
       "['Tshirts',\n",
       " 'Shirts',\n",
       " 'Casual Shoes',\n",
       " 'Watches',\n",
       " 'Sports Shoes',\n",
       " 'Kurtas',\n",
       " 'Tops',\n",
       " 'Handbags',\n",
       " 'Heels',\n",
       " 'Sunglasses',\n",
       " 'Wallets',\n",
       " 'Flip Flops',\n",
       " 'Sandals',\n",
       " 'Briefs',\n",
       " 'Belts',\n",
       " 'Backpacks',\n",
       " 'Socks',\n",
       " 'Formal Shoes',\n",
       " 'Jeans',\n",
       " 'Shorts',\n",
       " 'Trousers',\n",
       " 'Flats',\n",
       " 'Bra',\n",
       " 'Dresses',\n",
       " 'Sarees',\n",
       " 'Earrings',\n",
       " 'Track Pants',\n",
       " 'Clutches',\n",
       " 'Sweatshirts',\n",
       " 'Caps',\n",
       " 'Sweaters',\n",
       " 'Jackets',\n",
       " 'Ties',\n",
       " 'Innerwear Vests',\n",
       " 'Kurtis',\n",
       " 'Tunics',\n",
       " 'Nightdress',\n",
       " 'Leggings',\n",
       " 'Pendant',\n",
       " 'Capris',\n",
       " 'Necklace and Chains',\n",
       " 'Night suits',\n",
       " 'Trunk',\n",
       " 'Skirts',\n",
       " 'Ring',\n",
       " 'Dupatta',\n",
       " 'Scarves',\n",
       " 'Accessory Gift Set',\n",
       " 'Cufflinks',\n",
       " 'Kurta Sets',\n",
       " 'Stoles',\n",
       " 'Duffel Bag',\n",
       " 'Bangle',\n",
       " 'Laptop Bag',\n",
       " 'Sports Sandals',\n",
       " 'Bracelet',\n",
       " 'Lounge Pants',\n",
       " 'Jewellery Set',\n",
       " 'Boxers',\n",
       " 'Mobile Pouch',\n",
       " 'Messenger Bag',\n",
       " 'Suspenders',\n",
       " 'Camisoles',\n",
       " 'Patiala',\n",
       " 'Mufflers',\n",
       " 'Lounge Shorts',\n",
       " 'Jeggings',\n",
       " 'Stockings',\n",
       " 'Salwar',\n",
       " 'Churidar',\n",
       " 'Tracksuits',\n",
       " 'Shoe Accessories']"
      ]
     },
     "execution_count": 7,
     "metadata": {},
     "output_type": "execute_result"
    }
   ],
   "source": [
    "dropList"
   ]
  },
  {
   "cell_type": "markdown",
   "metadata": {},
   "source": [
    "# Preprocessing Dataset"
   ]
  },
  {
   "cell_type": "code",
   "execution_count": 8,
   "metadata": {},
   "outputs": [
    {
     "data": {
      "text/plain": [
       "Tshirts             7068\n",
       "Shirts              3212\n",
       "Casual Shoes        2846\n",
       "Watches             2541\n",
       "Sports Shoes        2035\n",
       "                    ... \n",
       "Stockings             32\n",
       "Salwar                32\n",
       "Churidar              30\n",
       "Tracksuits            29\n",
       "Shoe Accessories      24\n",
       "Name: articleType, Length: 72, dtype: int64"
      ]
     },
     "execution_count": 8,
     "metadata": {},
     "output_type": "execute_result"
    }
   ],
   "source": [
    "final=final.loc[final['articleType'].isin(dropList)]\n",
    "final.articleType.value_counts()"
   ]
  },
  {
   "cell_type": "code",
   "execution_count": 9,
   "metadata": {},
   "outputs": [],
   "source": [
    "X=[(str(x)+\".jpg\") for x in final[\"id\"]]\n",
    "Y=final[\"articleType\"]"
   ]
  },
  {
   "cell_type": "code",
   "execution_count": 70,
   "metadata": {},
   "outputs": [],
   "source": [
    "X_train,X_test,Y_train,Y_test=train_test_split(X, Y, test_size=0.33, stratify=Y)"
   ]
  },
  {
   "cell_type": "code",
   "execution_count": 71,
   "metadata": {},
   "outputs": [],
   "source": [
    "preprocess=ImageDataGenerator(rescale=1./255)\n",
    "traindf=pd.DataFrame(np.column_stack([X_train,Y_train]), columns=['FileName', 'articleType'])\n",
    "testdf=pd.DataFrame(np.column_stack([X_test,Y_test]), columns=['FileName', 'articleType'])"
   ]
  },
  {
   "cell_type": "code",
   "execution_count": 72,
   "metadata": {},
   "outputs": [],
   "source": [
    "batch_size=100"
   ]
  },
  {
   "cell_type": "code",
   "execution_count": 73,
   "metadata": {},
   "outputs": [
    {
     "name": "stdout",
     "output_type": "stream",
     "text": [
      "Found 27863 validated image filenames belonging to 72 classes.\n"
     ]
    }
   ],
   "source": [
    "trainData = preprocess.flow_from_dataframe(\n",
    "    dataframe=traindf,\n",
    "    directory=path+'images/',\n",
    "    x_col = 'FileName',\n",
    "    y_col = 'articleType',\n",
    "    target_size = (64,64),\n",
    "    batch_size=batch_size,\n",
    "    shuffle=False\n",
    " )\n"
   ]
  },
  {
   "cell_type": "code",
   "execution_count": 74,
   "metadata": {},
   "outputs": [
    {
     "name": "stdout",
     "output_type": "stream",
     "text": [
      "Found 13725 validated image filenames belonging to 72 classes.\n"
     ]
    }
   ],
   "source": [
    "testData = preprocess.flow_from_dataframe(\n",
    "    dataframe=testdf, \n",
    "    directory=path+'images/',\n",
    "    x_col = 'FileName', \n",
    "    y_col = 'articleType', \n",
    "    target_size = (64,64),\n",
    "    batch_size=1,\n",
    "    shuffle=False\n",
    "  )"
   ]
  },
  {
   "cell_type": "markdown",
   "metadata": {},
   "source": [
    "# Model Creation"
   ]
  },
  {
   "cell_type": "code",
   "execution_count": 15,
   "metadata": {},
   "outputs": [
    {
     "name": "stdout",
     "output_type": "stream",
     "text": [
      "Model: \"sequential_1\"\n",
      "_________________________________________________________________\n",
      "Layer (type)                 Output Shape              Param #   \n",
      "=================================================================\n",
      "conv2d_1 (Conv2D)            (None, 64, 64, 32)        896       \n",
      "_________________________________________________________________\n",
      "leaky_re_lu_1 (LeakyReLU)    (None, 64, 64, 32)        0         \n",
      "_________________________________________________________________\n",
      "max_pooling2d_1 (MaxPooling2 (None, 32, 32, 32)        0         \n",
      "_________________________________________________________________\n",
      "dropout_1 (Dropout)          (None, 32, 32, 32)        0         \n",
      "_________________________________________________________________\n",
      "conv2d_2 (Conv2D)            (None, 32, 32, 64)        18496     \n",
      "_________________________________________________________________\n",
      "leaky_re_lu_2 (LeakyReLU)    (None, 32, 32, 64)        0         \n",
      "_________________________________________________________________\n",
      "max_pooling2d_2 (MaxPooling2 (None, 16, 16, 64)        0         \n",
      "_________________________________________________________________\n",
      "dropout_2 (Dropout)          (None, 16, 16, 64)        0         \n",
      "_________________________________________________________________\n",
      "flatten_1 (Flatten)          (None, 16384)             0         \n",
      "_________________________________________________________________\n",
      "dense_1 (Dense)              (None, 64)                1048640   \n",
      "_________________________________________________________________\n",
      "leaky_re_lu_3 (LeakyReLU)    (None, 64)                0         \n",
      "_________________________________________________________________\n",
      "dropout_3 (Dropout)          (None, 64)                0         \n",
      "_________________________________________________________________\n",
      "dense_2 (Dense)              (None, 72)                4680      \n",
      "=================================================================\n",
      "Total params: 1,072,712\n",
      "Trainable params: 1,072,712\n",
      "Non-trainable params: 0\n",
      "_________________________________________________________________\n",
      "None\n"
     ]
    }
   ],
   "source": [
    "model = Sequential()\n",
    "model.add(Conv2D(32, kernel_size=(3, 3),activation='linear',padding='same',input_shape=(64,64,3)))\n",
    "model.add(LeakyReLU(alpha=0.1))\n",
    "model.add(MaxPooling2D((2, 2),padding='same'))\n",
    "model.add(Dropout(0.25))\n",
    "model.add(Conv2D(64, (3, 3), activation='linear',padding='same'))\n",
    "model.add(LeakyReLU(alpha=0.1))\n",
    "model.add(MaxPooling2D(pool_size=(2, 2),padding='same'))\n",
    "model.add(Dropout(0.25))\n",
    "# model.add(Conv2D(128, (3, 3), activation='linear',padding='same'))\n",
    "# model.add(LeakyReLU(alpha=0.1))                  \n",
    "# model.add(MaxPooling2D(pool_size=(2, 2),padding='same'))\n",
    "# model.add(Dropout(0.4))\n",
    "model.add(Flatten())\n",
    "model.add(Dense(64, activation='linear'))\n",
    "model.add(LeakyReLU(alpha=0.1))           \n",
    "model.add(Dropout(0.3))\n",
    "model.add(Dense(len(trainData.class_indices), activation='softmax'))\n",
    "print(model.summary())\n"
   ]
  },
  {
   "cell_type": "markdown",
   "metadata": {},
   "source": [
    "# Model compile and train"
   ]
  },
  {
   "cell_type": "code",
   "execution_count": 16,
   "metadata": {},
   "outputs": [],
   "source": [
    "model.compile(optimizer='adam', loss='categorical_crossentropy', metrics=['accuracy'])\n",
    "\n",
    "checkpoint = ModelCheckpoint(\"articleType_model.h5\", monitor='val_accuracy', verbose=1, save_best_only=True, save_weights_only=False, mode='auto', period=1)\n",
    "early = EarlyStopping(monitor='val_accuracy', min_delta=0, patience=20, verbose=1, mode='auto')\n"
   ]
  },
  {
   "cell_type": "code",
   "execution_count": 75,
   "metadata": {
    "scrolled": false
   },
   "outputs": [
    {
     "name": "stdout",
     "output_type": "stream",
     "text": [
      "Epoch 1/20\n",
      "279/279 [==============================] - 640s 2s/step - loss: 0.4277 - accuracy: 0.8710 - val_loss: 0.0096 - val_accuracy: 0.8768\n",
      "\n",
      "Epoch 00001: val_accuracy did not improve from 0.91304\n",
      "Epoch 2/20\n",
      "279/279 [==============================] - 173s 621ms/step - loss: 0.3666 - accuracy: 0.8810 - val_loss: 0.0000e+00 - val_accuracy: 0.9203\n",
      "\n",
      "Epoch 00002: val_accuracy improved from 0.91304 to 0.92029, saving model to model_1.h5\n",
      "Epoch 3/20\n",
      "279/279 [==============================] - 187s 670ms/step - loss: 0.3363 - accuracy: 0.8872 - val_loss: 0.0077 - val_accuracy: 0.9058\n",
      "\n",
      "Epoch 00003: val_accuracy did not improve from 0.92029\n",
      "Epoch 4/20\n",
      "279/279 [==============================] - 206s 737ms/step - loss: 0.3094 - accuracy: 0.8938 - val_loss: 4.7684e-07 - val_accuracy: 0.8841\n",
      "\n",
      "Epoch 00004: val_accuracy did not improve from 0.92029\n",
      "Epoch 5/20\n",
      "279/279 [==============================] - 210s 754ms/step - loss: 0.2843 - accuracy: 0.9011 - val_loss: 0.5934 - val_accuracy: 0.8696\n",
      "\n",
      "Epoch 00005: val_accuracy did not improve from 0.92029\n",
      "Epoch 6/20\n",
      "279/279 [==============================] - 207s 740ms/step - loss: 0.2758 - accuracy: 0.9031 - val_loss: 0.0000e+00 - val_accuracy: 0.9275\n",
      "\n",
      "Epoch 00006: val_accuracy improved from 0.92029 to 0.92754, saving model to model_1.h5\n",
      "Epoch 7/20\n",
      "279/279 [==============================] - 209s 748ms/step - loss: 0.2547 - accuracy: 0.9102 - val_loss: 0.0060 - val_accuracy: 0.8768\n",
      "\n",
      "Epoch 00007: val_accuracy did not improve from 0.92754\n",
      "Epoch 8/20\n",
      "279/279 [==============================] - 215s 771ms/step - loss: 0.2471 - accuracy: 0.9112 - val_loss: 0.0018 - val_accuracy: 0.8623\n",
      "\n",
      "Epoch 00008: val_accuracy did not improve from 0.92754\n",
      "Epoch 9/20\n",
      "279/279 [==============================] - 277s 993ms/step - loss: 0.2388 - accuracy: 0.9154 - val_loss: 0.0247 - val_accuracy: 0.9058\n",
      "\n",
      "Epoch 00009: val_accuracy did not improve from 0.92754\n",
      "Epoch 10/20\n",
      "279/279 [==============================] - 611s 2s/step - loss: 0.2225 - accuracy: 0.9212 - val_loss: 1.0014e-05 - val_accuracy: 0.8986\n",
      "\n",
      "Epoch 00010: val_accuracy did not improve from 0.92754\n",
      "Epoch 11/20\n",
      "279/279 [==============================] - 146s 523ms/step - loss: 0.2141 - accuracy: 0.9231 - val_loss: 0.0053 - val_accuracy: 0.9420\n",
      "\n",
      "Epoch 00011: val_accuracy improved from 0.92754 to 0.94203, saving model to model_1.h5\n",
      "Epoch 12/20\n",
      "279/279 [==============================] - 143s 512ms/step - loss: 0.2123 - accuracy: 0.9247 - val_loss: 0.0249 - val_accuracy: 0.8841\n",
      "\n",
      "Epoch 00012: val_accuracy did not improve from 0.94203\n",
      "Epoch 13/20\n",
      "279/279 [==============================] - 158s 565ms/step - loss: 0.2076 - accuracy: 0.9245 - val_loss: 0.0281 - val_accuracy: 0.8986\n",
      "\n",
      "Epoch 00013: val_accuracy did not improve from 0.94203\n",
      "Epoch 14/20\n",
      "279/279 [==============================] - 201s 721ms/step - loss: 0.1933 - accuracy: 0.9301 - val_loss: 0.0000e+00 - val_accuracy: 0.8841\n",
      "\n",
      "Epoch 00014: val_accuracy did not improve from 0.94203\n",
      "Epoch 15/20\n",
      "279/279 [==============================] - 226s 811ms/step - loss: 0.1870 - accuracy: 0.9313 - val_loss: 0.0085 - val_accuracy: 0.8768\n",
      "\n",
      "Epoch 00015: val_accuracy did not improve from 0.94203\n",
      "Epoch 16/20\n",
      "279/279 [==============================] - 228s 818ms/step - loss: 0.1877 - accuracy: 0.9318 - val_loss: 0.0000e+00 - val_accuracy: 0.8913\n",
      "\n",
      "Epoch 00016: val_accuracy did not improve from 0.94203\n",
      "Epoch 17/20\n",
      "279/279 [==============================] - 211s 756ms/step - loss: 0.1814 - accuracy: 0.9343 - val_loss: 0.2128 - val_accuracy: 0.8913\n",
      "\n",
      "Epoch 00017: val_accuracy did not improve from 0.94203\n",
      "Epoch 18/20\n",
      "279/279 [==============================] - 211s 757ms/step - loss: 0.1729 - accuracy: 0.9377 - val_loss: 0.2286 - val_accuracy: 0.8406\n",
      "\n",
      "Epoch 00018: val_accuracy did not improve from 0.94203\n",
      "Epoch 19/20\n",
      "279/279 [==============================] - 227s 813ms/step - loss: 0.1705 - accuracy: 0.9360 - val_loss: 0.0896 - val_accuracy: 0.8986\n",
      "\n",
      "Epoch 00019: val_accuracy did not improve from 0.94203\n",
      "Epoch 20/20\n",
      "279/279 [==============================] - 214s 767ms/step - loss: 0.1632 - accuracy: 0.9405 - val_loss: 0.5164 - val_accuracy: 0.8768\n",
      "\n",
      "Epoch 00020: val_accuracy did not improve from 0.94203\n",
      "Time: 81.73002310593922\n"
     ]
    }
   ],
   "source": [
    "start = time.time()\n",
    "hist = model.fit_generator(\n",
    "    generator=trainData, \n",
    "    steps_per_epoch=int(np.ceil(trainData.n/batch_size)), \n",
    "    validation_data=testData, \n",
    "    validation_steps=int(np.ceil(testData.n/batch_size)),\n",
    "    epochs=20,\n",
    "    callbacks=[checkpoint,early],\n",
    "    verbose=1\n",
    "  )\n",
    "end = time.time()\n",
    "print('Time:',(end - start)/60)"
   ]
  },
  {
   "cell_type": "markdown",
   "metadata": {},
   "source": [
    "# Model Evaluate"
   ]
  },
  {
   "cell_type": "code",
   "execution_count": 105,
   "metadata": {},
   "outputs": [
    {
     "name": "stdout",
     "output_type": "stream",
     "text": [
      "13725/13725 [==============================] - 90s 7ms/step\n",
      "Test loss: 1.9073468138230965e-06\n",
      "Test accuracy: 0.8868488073348999\n"
     ]
    }
   ],
   "source": [
    "model_evaluate=model.evaluate_generator(generator=testData,verbose=1)\n",
    "print('Test loss:', model_evaluate[0])\n",
    "print('Test accuracy:', model_evaluate[1])"
   ]
  },
  {
   "cell_type": "code",
   "execution_count": 77,
   "metadata": {},
   "outputs": [
    {
     "data": {
      "image/png": "[encoded data removed]",
      "text/plain": [
       "<Figure size 432x288 with 1 Axes>"
      ]
     },
     "metadata": {
      "needs_background": "light"
     },
     "output_type": "display_data"
    },
    {
     "data": {
      "image/png": "[encoded data removed]",
      "text/plain": [
       "<Figure size 432x288 with 1 Axes>"
      ]
     },
     "metadata": {
      "needs_background": "light"
     },
     "output_type": "display_data"
    }
   ],
   "source": [
    "accuracy = hist.history['accuracy']\n",
    "val_accuracy = hist.history['val_accuracy']\n",
    "loss = hist.history['loss']\n",
    "val_loss = hist.history['val_loss']\n",
    "epochs = range(len(accuracy))\n",
    "plt.plot(epochs, accuracy, 'bo', label='Training accuracy')\n",
    "plt.plot(epochs, val_accuracy, 'b', label='Validation accuracy')\n",
    "plt.title('Training and validation accuracy')\n",
    "plt.legend()\n",
    "plt.figure()\n",
    "plt.plot(epochs, loss, 'bo', label='Training loss')\n",
    "plt.plot(epochs, val_loss, 'b', label='Validation loss')\n",
    "plt.title('Training and validation loss')\n",
    "plt.legend()\n",
    "plt.show()"
   ]
  },
  {
   "cell_type": "markdown",
   "metadata": {},
   "source": [
    "# Prediction on test Dataset"
   ]
  },
  {
   "cell_type": "code",
   "execution_count": 78,
   "metadata": {
    "scrolled": true
   },
   "outputs": [
    {
     "name": "stdout",
     "output_type": "stream",
     "text": [
      "13725/13725 [==============================] - 85s 6ms/step\n"
     ]
    }
   ],
   "source": [
    "predict_test=model.predict_generator(generator=testData,verbose=1)"
   ]
  },
  {
   "cell_type": "code",
   "execution_count": 79,
   "metadata": {},
   "outputs": [],
   "source": [
    "predicted_testclasses = np.argmax(predict_test, axis=1)"
   ]
  },
  {
   "cell_type": "code",
   "execution_count": 80,
   "metadata": {},
   "outputs": [],
   "source": [
    "true_testclasses = testData.classes"
   ]
  },
  {
   "cell_type": "code",
   "execution_count": 81,
   "metadata": {},
   "outputs": [
    {
     "name": "stdout",
     "output_type": "stream",
     "text": [
      "[[ 37   0   0 ...   0   0   0]\n",
      " [  0 227   0 ...   0   0   0]\n",
      " [  0   0  19 ...   0   0   0]\n",
      " ...\n",
      " [  0   0   0 ...  18   0   0]\n",
      " [  0   0   0 ...   0 291   0]\n",
      " [  0   4   0 ...   0   0 833]]\n"
     ]
    }
   ],
   "source": [
    "confusion_test = confusion_matrix(true_testclasses, predicted_testclasses)\n",
    "print(confusion_test)"
   ]
  },
  {
   "cell_type": "code",
   "execution_count": 82,
   "metadata": {
    "scrolled": true
   },
   "outputs": [
    {
     "name": "stdout",
     "output_type": "stream",
     "text": [
      "              precision    recall  f1-score   support\n",
      "\n",
      "           0       1.00      1.00      1.00        37\n",
      "           1       0.96      0.95      0.96       238\n",
      "           2       0.68      0.68      0.68        28\n",
      "           3       0.97      1.00      0.99       268\n",
      "           4       0.81      0.76      0.79        17\n",
      "           5       0.97      0.99      0.98       157\n",
      "           6       0.79      0.68      0.73        22\n",
      "           7       0.94      0.99      0.96       280\n",
      "           8       0.75      0.69      0.72        13\n",
      "           9       0.69      0.79      0.74        58\n",
      "          10       0.93      0.89      0.91        93\n",
      "          11       0.87      0.83      0.85       939\n",
      "          12       0.45      0.50      0.48        10\n",
      "          13       0.79      0.62      0.69        95\n",
      "          14       0.97      0.97      0.97        35\n",
      "          15       0.74      0.65      0.69       153\n",
      "          16       0.94      0.59      0.72        29\n",
      "          17       1.00      0.87      0.93        38\n",
      "          18       0.96      0.99      0.97       138\n",
      "          19       0.63      0.52      0.57       165\n",
      "          20       0.85      0.94      0.89       302\n",
      "          21       0.85      0.89      0.87       210\n",
      "          22       0.89      0.96      0.93       579\n",
      "          23       0.84      0.89      0.86       437\n",
      "          24       0.93      0.79      0.85        80\n",
      "          25       0.81      0.55      0.66        85\n",
      "          26       0.82      0.94      0.87       201\n",
      "          27       0.67      0.18      0.29        11\n",
      "          28       0.88      0.74      0.80        19\n",
      "          29       0.79      0.97      0.87        31\n",
      "          30       0.91      0.94      0.92       609\n",
      "          31       0.70      0.43      0.53        77\n",
      "          32       0.62      0.37      0.47        27\n",
      "          33       0.81      0.74      0.77        58\n",
      "          34       0.56      0.70      0.62        20\n",
      "          35       0.75      0.55      0.63        11\n",
      "          36       0.88      0.50      0.64        14\n",
      "          37       0.73      0.53      0.62        15\n",
      "          38       0.62      0.77      0.69        13\n",
      "          39       0.87      0.85      0.86        53\n",
      "          40       0.88      0.81      0.84        47\n",
      "          41       0.79      0.77      0.78        62\n",
      "          42       0.77      0.77      0.77        13\n",
      "          43       0.70      0.86      0.78        58\n",
      "          44       0.91      0.77      0.83        39\n",
      "          45       0.90      0.82      0.86        11\n",
      "          46       0.92      0.84      0.88       296\n",
      "          47       0.97      0.99      0.98       140\n",
      "          48       0.85      0.74      0.79        38\n",
      "          49       0.94      0.93      0.93      1060\n",
      "          50       0.67      0.50      0.57         8\n",
      "          51       0.90      0.87      0.88       180\n",
      "          52       0.84      0.74      0.78        42\n",
      "          53       0.97      0.97      0.97       226\n",
      "          54       0.77      0.45      0.57        22\n",
      "          55       0.85      0.89      0.87       672\n",
      "          56       0.86      0.55      0.67        11\n",
      "          57       0.92      0.77      0.84        30\n",
      "          58       1.00      1.00      1.00       354\n",
      "          59       1.00      0.92      0.96        13\n",
      "          60       0.77      0.64      0.70        91\n",
      "          61       0.68      0.78      0.73        94\n",
      "          62       1.00      0.99      0.99        84\n",
      "          63       0.72      0.71      0.71       581\n",
      "          64       0.90      0.80      0.85       100\n",
      "          65       0.69      0.90      0.78        10\n",
      "          66       0.90      0.87      0.89       175\n",
      "          67       0.89      0.67      0.77        46\n",
      "          68       0.90      0.95      0.93      2333\n",
      "          69       0.56      0.24      0.33        76\n",
      "          70       0.92      0.94      0.93       309\n",
      "          71       1.00      0.99      0.99       839\n",
      "\n",
      "    accuracy                           0.89     13725\n",
      "   macro avg       0.83      0.77      0.79     13725\n",
      "weighted avg       0.88      0.89      0.88     13725\n",
      "\n"
     ]
    }
   ],
   "source": [
    "print(classification_report(true_testclasses,predicted_testclasses))"
   ]
  },
  {
   "cell_type": "markdown",
   "metadata": {},
   "source": [
    "# Prediction on Train Dataset"
   ]
  },
  {
   "cell_type": "code",
   "execution_count": 83,
   "metadata": {},
   "outputs": [
    {
     "name": "stdout",
     "output_type": "stream",
     "text": [
      "279/279 [==============================] - 161s 577ms/step\n"
     ]
    }
   ],
   "source": [
    "predict_train=model.predict_generator(generator=trainData,verbose=1)"
   ]
  },
  {
   "cell_type": "code",
   "execution_count": 84,
   "metadata": {},
   "outputs": [],
   "source": [
    "predicted_trainClasses = np.argmax(predict_train, axis=1)"
   ]
  },
  {
   "cell_type": "code",
   "execution_count": 85,
   "metadata": {},
   "outputs": [],
   "source": [
    "true_trainclasses = trainData.classes"
   ]
  },
  {
   "cell_type": "code",
   "execution_count": 86,
   "metadata": {},
   "outputs": [
    {
     "name": "stdout",
     "output_type": "stream",
     "text": [
      "[[  74    0    0 ...    0    0    0]\n",
      " [   0  482    0 ...    0    0    0]\n",
      " [   0    0   56 ...    0    0    0]\n",
      " ...\n",
      " [   0    0    0 ...  130    0    0]\n",
      " [   0    0    0 ...    0  624    0]\n",
      " [   0    0    0 ...    0    0 1701]]\n"
     ]
    }
   ],
   "source": [
    "confusion_train = confusion_matrix(true_trainclasses, predicted_trainClasses)\n",
    "print(confusion_train)"
   ]
  },
  {
   "cell_type": "code",
   "execution_count": 87,
   "metadata": {
    "scrolled": false
   },
   "outputs": [
    {
     "name": "stdout",
     "output_type": "stream",
     "text": [
      "              precision    recall  f1-score   support\n",
      "\n",
      "           0       1.00      1.00      1.00        74\n",
      "           1       1.00      1.00      1.00       482\n",
      "           2       1.00      0.98      0.99        57\n",
      "           3       1.00      1.00      1.00       545\n",
      "           4       1.00      0.97      0.99        35\n",
      "           5       1.00      1.00      1.00       320\n",
      "           6       0.98      1.00      0.99        44\n",
      "           7       0.98      1.00      0.99       569\n",
      "           8       1.00      1.00      1.00        26\n",
      "           9       0.99      1.00      1.00       117\n",
      "          10       1.00      1.00      1.00       190\n",
      "          11       0.98      0.96      0.97      1907\n",
      "          12       1.00      1.00      1.00        20\n",
      "          13       0.99      0.95      0.97       194\n",
      "          14       1.00      1.00      1.00        71\n",
      "          15       1.00      0.99      1.00       311\n",
      "          16       1.00      1.00      1.00        59\n",
      "          17       1.00      1.00      1.00        78\n",
      "          18       1.00      1.00      1.00       279\n",
      "          19       0.97      0.86      0.91       335\n",
      "          20       0.96      1.00      0.98       614\n",
      "          21       0.95      0.98      0.97       427\n",
      "          22       1.00      1.00      1.00      1175\n",
      "          23       0.95      1.00      0.97       886\n",
      "          24       0.99      0.98      0.99       161\n",
      "          25       1.00      0.99      0.99       173\n",
      "          26       0.99      1.00      1.00       407\n",
      "          27       1.00      0.96      0.98        23\n",
      "          28       1.00      1.00      1.00        39\n",
      "          29       1.00      1.00      1.00        63\n",
      "          30       0.99      1.00      0.99      1235\n",
      "          31       0.97      0.93      0.95       157\n",
      "          32       1.00      0.98      0.99        54\n",
      "          33       1.00      0.98      0.99       119\n",
      "          34       1.00      1.00      1.00        41\n",
      "          35       1.00      1.00      1.00        23\n",
      "          36       1.00      1.00      1.00        30\n",
      "          37       1.00      1.00      1.00        32\n",
      "          38       1.00      1.00      1.00        25\n",
      "          39       1.00      0.99      1.00       107\n",
      "          40       0.99      1.00      0.99        94\n",
      "          41       1.00      1.00      1.00       127\n",
      "          42       1.00      1.00      1.00        25\n",
      "          43       0.97      1.00      0.98       117\n",
      "          44       1.00      1.00      1.00        79\n",
      "          45       1.00      1.00      1.00        21\n",
      "          46       0.99      0.97      0.98       601\n",
      "          47       1.00      1.00      1.00       284\n",
      "          48       1.00      0.99      0.99        78\n",
      "          49       0.99      1.00      0.99      2152\n",
      "          50       1.00      1.00      1.00        16\n",
      "          51       1.00      1.00      1.00       367\n",
      "          52       1.00      1.00      1.00        86\n",
      "          53       1.00      1.00      1.00       460\n",
      "          54       1.00      0.98      0.99        45\n",
      "          55       0.97      0.98      0.98      1363\n",
      "          56       1.00      1.00      1.00        21\n",
      "          57       1.00      1.00      1.00        60\n",
      "          58       1.00      1.00      1.00       719\n",
      "          59       1.00      1.00      1.00        27\n",
      "          60       0.99      0.98      0.99       186\n",
      "          61       0.97      1.00      0.98       191\n",
      "          62       1.00      0.99      1.00       172\n",
      "          63       0.98      0.96      0.97      1181\n",
      "          64       1.00      1.00      1.00       203\n",
      "          65       1.00      1.00      1.00        19\n",
      "          66       1.00      1.00      1.00       355\n",
      "          67       0.99      0.87      0.93        94\n",
      "          68       0.99      1.00      0.99      4735\n",
      "          69       0.99      0.85      0.92       153\n",
      "          70       0.99      1.00      0.99       626\n",
      "          71       1.00      1.00      1.00      1702\n",
      "\n",
      "    accuracy                           0.99     27863\n",
      "   macro avg       0.99      0.99      0.99     27863\n",
      "weighted avg       0.99      0.99      0.99     27863\n",
      "\n"
     ]
    }
   ],
   "source": [
    "print(classification_report(true_trainclasses,predicted_trainClasses))"
   ]
  },
  {
   "cell_type": "markdown",
   "metadata": {},
   "source": [
    "# Feature Extraction"
   ]
  },
  {
   "cell_type": "code",
   "execution_count": 88,
   "metadata": {},
   "outputs": [
    {
     "name": "stdout",
     "output_type": "stream",
     "text": [
      "Model: \"sequential_1\"\n",
      "_________________________________________________________________\n",
      "Layer (type)                 Output Shape              Param #   \n",
      "=================================================================\n",
      "conv2d_1 (Conv2D)            (None, 64, 64, 32)        896       \n",
      "_________________________________________________________________\n",
      "leaky_re_lu_1 (LeakyReLU)    (None, 64, 64, 32)        0         \n",
      "_________________________________________________________________\n",
      "max_pooling2d_1 (MaxPooling2 (None, 32, 32, 32)        0         \n",
      "_________________________________________________________________\n",
      "dropout_1 (Dropout)          (None, 32, 32, 32)        0         \n",
      "_________________________________________________________________\n",
      "conv2d_2 (Conv2D)            (None, 32, 32, 64)        18496     \n",
      "_________________________________________________________________\n",
      "leaky_re_lu_2 (LeakyReLU)    (None, 32, 32, 64)        0         \n",
      "_________________________________________________________________\n",
      "max_pooling2d_2 (MaxPooling2 (None, 16, 16, 64)        0         \n",
      "_________________________________________________________________\n",
      "dropout_2 (Dropout)          (None, 16, 16, 64)        0         \n",
      "_________________________________________________________________\n",
      "flatten_1 (Flatten)          (None, 16384)             0         \n",
      "_________________________________________________________________\n",
      "dense_1 (Dense)              (None, 64)                1048640   \n",
      "_________________________________________________________________\n",
      "leaky_re_lu_3 (LeakyReLU)    (None, 64)                0         \n",
      "_________________________________________________________________\n",
      "dropout_3 (Dropout)          (None, 64)                0         \n",
      "_________________________________________________________________\n",
      "dense_2 (Dense)              (None, 72)                4680      \n",
      "=================================================================\n",
      "Total params: 1,072,712\n",
      "Trainable params: 1,072,712\n",
      "Non-trainable params: 0\n",
      "_________________________________________________________________\n"
     ]
    }
   ],
   "source": [
    "model.summary()"
   ]
  },
  {
   "cell_type": "code",
   "execution_count": 93,
   "metadata": {
    "scrolled": true
   },
   "outputs": [
    {
     "name": "stdout",
     "output_type": "stream",
     "text": [
      "Model: \"model_2\"\n",
      "_________________________________________________________________\n",
      "Layer (type)                 Output Shape              Param #   \n",
      "=================================================================\n",
      "conv2d_1_input (InputLayer)  (None, 64, 64, 3)         0         \n",
      "_________________________________________________________________\n",
      "conv2d_1 (Conv2D)            (None, 64, 64, 32)        896       \n",
      "_________________________________________________________________\n",
      "leaky_re_lu_1 (LeakyReLU)    (None, 64, 64, 32)        0         \n",
      "_________________________________________________________________\n",
      "max_pooling2d_1 (MaxPooling2 (None, 32, 32, 32)        0         \n",
      "_________________________________________________________________\n",
      "dropout_1 (Dropout)          (None, 32, 32, 32)        0         \n",
      "_________________________________________________________________\n",
      "conv2d_2 (Conv2D)            (None, 32, 32, 64)        18496     \n",
      "_________________________________________________________________\n",
      "leaky_re_lu_2 (LeakyReLU)    (None, 32, 32, 64)        0         \n",
      "_________________________________________________________________\n",
      "max_pooling2d_2 (MaxPooling2 (None, 16, 16, 64)        0         \n",
      "_________________________________________________________________\n",
      "dropout_2 (Dropout)          (None, 16, 16, 64)        0         \n",
      "_________________________________________________________________\n",
      "flatten_1 (Flatten)          (None, 16384)             0         \n",
      "_________________________________________________________________\n",
      "dense_1 (Dense)              (None, 64)                1048640   \n",
      "_________________________________________________________________\n",
      "leaky_re_lu_3 (LeakyReLU)    (None, 64)                0         \n",
      "=================================================================\n",
      "Total params: 1,068,032\n",
      "Trainable params: 1,068,032\n",
      "Non-trainable params: 0\n",
      "_________________________________________________________________\n"
     ]
    }
   ],
   "source": [
    "feature_model = Model(inputs=model.inputs,outputs=model.get_layer('leaky_re_lu_3').output)\n",
    "feature_model.summary()"
   ]
  },
  {
   "cell_type": "code",
   "execution_count": 101,
   "metadata": {},
   "outputs": [
    {
     "name": "stdout",
     "output_type": "stream",
     "text": [
      "279/279 [==============================] - 104s 371ms/step\n"
     ]
    }
   ],
   "source": [
    "train_feature=feature_model.predict_generator(trainData,verbose=1)\n",
    "train_feature=pd.DataFrame(train_feature)"
   ]
  },
  {
   "cell_type": "code",
   "execution_count": 102,
   "metadata": {},
   "outputs": [
    {
     "name": "stdout",
     "output_type": "stream",
     "text": [
      "13725/13725 [==============================] - 723s 53ms/step\n"
     ]
    }
   ],
   "source": [
    "test_feature=feature_model.predict_generator(testData,verbose=1)\n",
    "test_feature=pd.DataFrame(test_feature)"
   ]
  },
  {
   "cell_type": "markdown",
   "metadata": {},
   "source": [
    "train_feature.to_csv('Features/articleType_train_feature.csv')\n",
    "test_feature.to_csv('Features/articleType_test_feature.csv')"
   ]
  },
  {
   "cell_type": "markdown",
   "metadata": {},
   "source": [
    "train_feature=pd.read_csv('Features/articleType_train_feature.csv')\n",
    "test_feature=pd.read_csv('Features/articleType_test_feature.csv')"
   ]
  },
  {
   "cell_type": "markdown",
   "metadata": {},
   "source": [
    "train_feature.columns\n",
    "test_feature.columns"
   ]
  },
  {
   "cell_type": "markdown",
   "metadata": {},
   "source": [
    "train_feature.drop('Unnamed: 0', axis=1, inplace=True)\n",
    "test_feature.drop('Unnamed: 0', axis=1, inplace=True)"
   ]
  },
  {
   "cell_type": "code",
   "execution_count": 137,
   "metadata": {},
   "outputs": [],
   "source": [
    "test_feature = pd.concat([testdf,test_feature], axis =1)\n",
    "train_feature = pd.concat([traindf,train_feature], axis =1)"
   ]
  },
  {
   "cell_type": "code",
   "execution_count": 138,
   "metadata": {
    "scrolled": true
   },
   "outputs": [
    {
     "name": "stdout",
     "output_type": "stream",
     "text": [
      "    FileName   articleType   FileName   articleType         0         1  \\\n",
      "0  33866.jpg       Sandals  33866.jpg       Sandals  1.723783 -0.860014   \n",
      "1  50025.jpg      Leggings  50025.jpg      Leggings -0.155427  4.518893   \n",
      "2  32554.jpg  Casual Shoes  32554.jpg  Casual Shoes -1.136081 -0.945507   \n",
      "3  18586.jpg         Socks  18586.jpg         Socks  5.168271 -0.887530   \n",
      "4  41760.jpg          Tops  41760.jpg          Tops -0.325462 -0.656366   \n",
      "\n",
      "          2         3         4         5  ...        54        55        56  \\\n",
      "0 -1.615898  3.739750 -0.223499 -1.545060  ... -1.903793 -1.974984 -0.827429   \n",
      "1 -0.138679 -0.448933  4.443844 -0.536743  ... -1.635222  1.436128  5.952700   \n",
      "2  8.214421  2.414149  1.380901 -1.812141  ... -0.647217 -0.811333 -0.012900   \n",
      "3 -0.943794  1.930262  9.077977 -0.317978  ... -1.794136 -0.132944 -1.837919   \n",
      "4 -1.302325 -1.679177 -0.590092  8.231873  ... -0.290987 -0.645975 -1.595061   \n",
      "\n",
      "         57         58        59         60        61        62        63  \n",
      "0 -0.402110  -0.510859 -0.284058  13.142218 -0.933474 -1.051266 -2.520883  \n",
      "1 -0.515755  -0.131185  1.875632  -0.799602 -0.353044 -0.216098  5.356925  \n",
      "2 -0.857983  -0.843543 -0.717267  10.146515 -0.327790 -0.195848 -2.402054  \n",
      "3 -0.865581  11.828218 -1.296289  10.060918  9.186461 -0.150009  0.875939  \n",
      "4  0.332112  -0.314031 -1.884106  -2.075674 -0.166719  0.916276 -1.121908  \n",
      "\n",
      "[5 rows x 68 columns]\n",
      "    FileName   articleType   FileName   articleType          0          1  \\\n",
      "0  48517.jpg          Tops  48517.jpg          Tops  -0.746544  -0.688240   \n",
      "1  42515.jpg        Kurtis  42515.jpg        Kurtis  16.512825  -0.192812   \n",
      "2  23005.jpg       Tshirts  23005.jpg       Tshirts  -0.705387  -1.198865   \n",
      "3  17847.jpg  Sports Shoes  17847.jpg  Sports Shoes   5.724666  -0.968582   \n",
      "4  57992.jpg        Shirts  57992.jpg        Shirts  -0.083182  12.195697   \n",
      "\n",
      "          2         3         4         5  ...        54        55        56  \\\n",
      "0 -1.580130 -0.092901 -0.004673 -0.485446  ...  0.620631  0.353624 -1.976487   \n",
      "1 -0.974553 -1.718364 -0.618897 -0.545400  ... -0.391150 -0.445953 -1.097958   \n",
      "2 -0.645572 -2.524592 -1.154395 -0.891031  ... -1.230994 -0.367285 -1.342840   \n",
      "3 -0.579576  5.621451 -0.800647 -1.167585  ... -1.200536 -0.682181  3.457905   \n",
      "4 -0.519394 -1.467346 -0.832823 -0.271348  ... -0.474767 -0.458680  4.774627   \n",
      "\n",
      "         57        58        59        60        61         62         63  \n",
      "0 -0.335753 -0.193749 -1.635342 -2.488799 -0.796954  -0.057510  -0.544860  \n",
      "1 -1.274862 -0.971941 -2.753173 -3.676917 -0.810935   6.834915   2.715407  \n",
      "2 -0.839306 -1.222619 -1.357283 -0.876261  5.255948  11.205057  -0.395351  \n",
      "3 -0.629630 -0.563820 -1.512372  5.321823 -0.399470  -1.047235  -0.907949  \n",
      "4 -1.038089 -0.649620 -1.291388 -2.488828 -1.220821   6.132236  11.660593  \n",
      "\n",
      "[5 rows x 68 columns]\n"
     ]
    }
   ],
   "source": [
    "print(test_feature.head())\n",
    "print(train_feature.head())"
   ]
  },
  {
   "cell_type": "code",
   "execution_count": 128,
   "metadata": {},
   "outputs": [],
   "source": [
    "train_feature.to_csv('Features/articleType_train_feature.csv', index = False, header=True)\n",
    "test_feature.to_csv('Features/articleType_test_feature.csv', index = False, header=True)"
   ]
  },
  {
   "cell_type": "code",
   "execution_count": 139,
   "metadata": {},
   "outputs": [
    {
     "data": {
      "text/plain": [
       "Index(['FileName', 'articleType', '0', '1', '2', '3', '4', '5', '6', '7', '8',\n",
       "       '9', '10', '11', '12', '13', '14', '15', '16', '17', '18', '19', '20',\n",
       "       '21', '22', '23', '24', '25', '26', '27', '28', '29', '30', '31', '32',\n",
       "       '33', '34', '35', '36', '37', '38', '39', '40', '41', '42', '43', '44',\n",
       "       '45', '46', '47', '48', '49', '50', '51', '52', '53', '54', '55', '56',\n",
       "       '57', '58', '59', '60', '61', '62', '63'],\n",
       "      dtype='object')"
      ]
     },
     "execution_count": 139,
     "metadata": {},
     "output_type": "execute_result"
    }
   ],
   "source": [
    "tr=pd.read_csv('Features/articleType_train_feature.csv')\n",
    "te=pd.read_csv('Features/articleType_test_feature.csv')\n",
    "tr.columns\n",
    "te.columns"
   ]
  },
  {
   "cell_type": "code",
   "execution_count": 140,
   "metadata": {
    "scrolled": true
   },
   "outputs": [
    {
     "data": {
      "text/html": [
       "<div>\n",
       "<style scoped>\n",
       "    .dataframe tbody tr th:only-of-type {\n",
       "        vertical-align: middle;\n",
       "    }\n",
       "\n",
       "    .dataframe tbody tr th {\n",
       "        vertical-align: top;\n",
       "    }\n",
       "\n",
       "    .dataframe thead th {\n",
       "        text-align: right;\n",
       "    }\n",
       "</style>\n",
       "<table border=\"1\" class=\"dataframe\">\n",
       "  <thead>\n",
       "    <tr style=\"text-align: right;\">\n",
       "      <th></th>\n",
       "      <th>FileName</th>\n",
       "      <th>articleType</th>\n",
       "      <th>0</th>\n",
       "      <th>1</th>\n",
       "      <th>2</th>\n",
       "      <th>3</th>\n",
       "      <th>4</th>\n",
       "      <th>5</th>\n",
       "      <th>6</th>\n",
       "      <th>7</th>\n",
       "      <th>...</th>\n",
       "      <th>54</th>\n",
       "      <th>55</th>\n",
       "      <th>56</th>\n",
       "      <th>57</th>\n",
       "      <th>58</th>\n",
       "      <th>59</th>\n",
       "      <th>60</th>\n",
       "      <th>61</th>\n",
       "      <th>62</th>\n",
       "      <th>63</th>\n",
       "    </tr>\n",
       "  </thead>\n",
       "  <tbody>\n",
       "    <tr>\n",
       "      <th>0</th>\n",
       "      <td>33866.jpg</td>\n",
       "      <td>Sandals</td>\n",
       "      <td>1.723783</td>\n",
       "      <td>-0.860014</td>\n",
       "      <td>-1.615898</td>\n",
       "      <td>3.739750</td>\n",
       "      <td>-0.223499</td>\n",
       "      <td>-1.545060</td>\n",
       "      <td>-2.038923</td>\n",
       "      <td>4.781416</td>\n",
       "      <td>...</td>\n",
       "      <td>-1.903793</td>\n",
       "      <td>-1.974984</td>\n",
       "      <td>-0.827429</td>\n",
       "      <td>-0.402110</td>\n",
       "      <td>-0.510859</td>\n",
       "      <td>-0.284058</td>\n",
       "      <td>13.142218</td>\n",
       "      <td>-0.933474</td>\n",
       "      <td>-1.051266</td>\n",
       "      <td>-2.520883</td>\n",
       "    </tr>\n",
       "    <tr>\n",
       "      <th>1</th>\n",
       "      <td>50025.jpg</td>\n",
       "      <td>Leggings</td>\n",
       "      <td>-0.155427</td>\n",
       "      <td>4.518893</td>\n",
       "      <td>-0.138679</td>\n",
       "      <td>-0.448933</td>\n",
       "      <td>4.443844</td>\n",
       "      <td>-0.536743</td>\n",
       "      <td>-0.419763</td>\n",
       "      <td>-0.568726</td>\n",
       "      <td>...</td>\n",
       "      <td>-1.635222</td>\n",
       "      <td>1.436128</td>\n",
       "      <td>5.952700</td>\n",
       "      <td>-0.515755</td>\n",
       "      <td>-0.131185</td>\n",
       "      <td>1.875632</td>\n",
       "      <td>-0.799602</td>\n",
       "      <td>-0.353044</td>\n",
       "      <td>-0.216098</td>\n",
       "      <td>5.356925</td>\n",
       "    </tr>\n",
       "    <tr>\n",
       "      <th>2</th>\n",
       "      <td>32554.jpg</td>\n",
       "      <td>Casual Shoes</td>\n",
       "      <td>-1.136081</td>\n",
       "      <td>-0.945507</td>\n",
       "      <td>8.214421</td>\n",
       "      <td>2.414149</td>\n",
       "      <td>1.380901</td>\n",
       "      <td>-1.812141</td>\n",
       "      <td>-0.695216</td>\n",
       "      <td>7.670508</td>\n",
       "      <td>...</td>\n",
       "      <td>-0.647217</td>\n",
       "      <td>-0.811333</td>\n",
       "      <td>-0.012900</td>\n",
       "      <td>-0.857983</td>\n",
       "      <td>-0.843543</td>\n",
       "      <td>-0.717267</td>\n",
       "      <td>10.146515</td>\n",
       "      <td>-0.327790</td>\n",
       "      <td>-0.195848</td>\n",
       "      <td>-2.402055</td>\n",
       "    </tr>\n",
       "    <tr>\n",
       "      <th>3</th>\n",
       "      <td>18586.jpg</td>\n",
       "      <td>Socks</td>\n",
       "      <td>5.168271</td>\n",
       "      <td>-0.887530</td>\n",
       "      <td>-0.943794</td>\n",
       "      <td>1.930262</td>\n",
       "      <td>9.077977</td>\n",
       "      <td>-0.317978</td>\n",
       "      <td>3.701172</td>\n",
       "      <td>-0.681807</td>\n",
       "      <td>...</td>\n",
       "      <td>-1.794136</td>\n",
       "      <td>-0.132944</td>\n",
       "      <td>-1.837919</td>\n",
       "      <td>-0.865581</td>\n",
       "      <td>11.828217</td>\n",
       "      <td>-1.296289</td>\n",
       "      <td>10.060918</td>\n",
       "      <td>9.186461</td>\n",
       "      <td>-0.150009</td>\n",
       "      <td>0.875939</td>\n",
       "    </tr>\n",
       "    <tr>\n",
       "      <th>4</th>\n",
       "      <td>41760.jpg</td>\n",
       "      <td>Tops</td>\n",
       "      <td>-0.325462</td>\n",
       "      <td>-0.656366</td>\n",
       "      <td>-1.302325</td>\n",
       "      <td>-1.679177</td>\n",
       "      <td>-0.590092</td>\n",
       "      <td>8.231873</td>\n",
       "      <td>-0.865028</td>\n",
       "      <td>-0.233852</td>\n",
       "      <td>...</td>\n",
       "      <td>-0.290987</td>\n",
       "      <td>-0.645975</td>\n",
       "      <td>-1.595061</td>\n",
       "      <td>0.332112</td>\n",
       "      <td>-0.314031</td>\n",
       "      <td>-1.884106</td>\n",
       "      <td>-2.075674</td>\n",
       "      <td>-0.166719</td>\n",
       "      <td>0.916276</td>\n",
       "      <td>-1.121908</td>\n",
       "    </tr>\n",
       "  </tbody>\n",
       "</table>\n",
       "<p>5 rows × 66 columns</p>\n",
       "</div>"
      ],
      "text/plain": [
       "    FileName   articleType         0         1         2         3         4  \\\n",
       "0  33866.jpg       Sandals  1.723783 -0.860014 -1.615898  3.739750 -0.223499   \n",
       "1  50025.jpg      Leggings -0.155427  4.518893 -0.138679 -0.448933  4.443844   \n",
       "2  32554.jpg  Casual Shoes -1.136081 -0.945507  8.214421  2.414149  1.380901   \n",
       "3  18586.jpg         Socks  5.168271 -0.887530 -0.943794  1.930262  9.077977   \n",
       "4  41760.jpg          Tops -0.325462 -0.656366 -1.302325 -1.679177 -0.590092   \n",
       "\n",
       "          5         6         7  ...        54        55        56        57  \\\n",
       "0 -1.545060 -2.038923  4.781416  ... -1.903793 -1.974984 -0.827429 -0.402110   \n",
       "1 -0.536743 -0.419763 -0.568726  ... -1.635222  1.436128  5.952700 -0.515755   \n",
       "2 -1.812141 -0.695216  7.670508  ... -0.647217 -0.811333 -0.012900 -0.857983   \n",
       "3 -0.317978  3.701172 -0.681807  ... -1.794136 -0.132944 -1.837919 -0.865581   \n",
       "4  8.231873 -0.865028 -0.233852  ... -0.290987 -0.645975 -1.595061  0.332112   \n",
       "\n",
       "          58        59         60        61        62        63  \n",
       "0  -0.510859 -0.284058  13.142218 -0.933474 -1.051266 -2.520883  \n",
       "1  -0.131185  1.875632  -0.799602 -0.353044 -0.216098  5.356925  \n",
       "2  -0.843543 -0.717267  10.146515 -0.327790 -0.195848 -2.402055  \n",
       "3  11.828217 -1.296289  10.060918  9.186461 -0.150009  0.875939  \n",
       "4  -0.314031 -1.884106  -2.075674 -0.166719  0.916276 -1.121908  \n",
       "\n",
       "[5 rows x 66 columns]"
      ]
     },
     "execution_count": 140,
     "metadata": {},
     "output_type": "execute_result"
    }
   ],
   "source": [
    "te.head()"
   ]
  },
  {
   "cell_type": "code",
   "execution_count": 131,
   "metadata": {
    "scrolled": true
   },
   "outputs": [
    {
     "name": "stdout",
     "output_type": "stream",
     "text": [
      "Model: \"sequential_1\"\n",
      "_________________________________________________________________\n",
      "Layer (type)                 Output Shape              Param #   \n",
      "=================================================================\n",
      "conv2d_1 (Conv2D)            (None, 64, 64, 32)        896       \n",
      "_________________________________________________________________\n",
      "leaky_re_lu_1 (LeakyReLU)    (None, 64, 64, 32)        0         \n",
      "_________________________________________________________________\n",
      "max_pooling2d_1 (MaxPooling2 (None, 32, 32, 32)        0         \n",
      "_________________________________________________________________\n",
      "dropout_1 (Dropout)          (None, 32, 32, 32)        0         \n",
      "_________________________________________________________________\n",
      "conv2d_2 (Conv2D)            (None, 32, 32, 64)        18496     \n",
      "_________________________________________________________________\n",
      "leaky_re_lu_2 (LeakyReLU)    (None, 32, 32, 64)        0         \n",
      "_________________________________________________________________\n",
      "max_pooling2d_2 (MaxPooling2 (None, 16, 16, 64)        0         \n",
      "_________________________________________________________________\n",
      "dropout_2 (Dropout)          (None, 16, 16, 64)        0         \n",
      "_________________________________________________________________\n",
      "flatten_1 (Flatten)          (None, 16384)             0         \n",
      "_________________________________________________________________\n",
      "dense_1 (Dense)              (None, 64)                1048640   \n",
      "_________________________________________________________________\n",
      "leaky_re_lu_3 (LeakyReLU)    (None, 64)                0         \n",
      "_________________________________________________________________\n",
      "dropout_3 (Dropout)          (None, 64)                0         \n",
      "_________________________________________________________________\n",
      "dense_2 (Dense)              (None, 72)                4680      \n",
      "=================================================================\n",
      "Total params: 1,072,712\n",
      "Trainable params: 1,072,712\n",
      "Non-trainable params: 0\n",
      "_________________________________________________________________\n",
      "None\n"
     ]
    }
   ],
   "source": [
    "mod=load_model('Models/articleType_model.h5')\n",
    "print(mod.summary())"
   ]
  },
  {
   "cell_type": "code",
   "execution_count": 132,
   "metadata": {},
   "outputs": [
    {
     "name": "stdout",
     "output_type": "stream",
     "text": [
      "Model: \"model_2\"\n",
      "_________________________________________________________________\n",
      "Layer (type)                 Output Shape              Param #   \n",
      "=================================================================\n",
      "conv2d_1_input (InputLayer)  (None, 64, 64, 3)         0         \n",
      "_________________________________________________________________\n",
      "conv2d_1 (Conv2D)            (None, 64, 64, 32)        896       \n",
      "_________________________________________________________________\n",
      "leaky_re_lu_1 (LeakyReLU)    (None, 64, 64, 32)        0         \n",
      "_________________________________________________________________\n",
      "max_pooling2d_1 (MaxPooling2 (None, 32, 32, 32)        0         \n",
      "_________________________________________________________________\n",
      "dropout_1 (Dropout)          (None, 32, 32, 32)        0         \n",
      "_________________________________________________________________\n",
      "conv2d_2 (Conv2D)            (None, 32, 32, 64)        18496     \n",
      "_________________________________________________________________\n",
      "leaky_re_lu_2 (LeakyReLU)    (None, 32, 32, 64)        0         \n",
      "_________________________________________________________________\n",
      "max_pooling2d_2 (MaxPooling2 (None, 16, 16, 64)        0         \n",
      "_________________________________________________________________\n",
      "dropout_2 (Dropout)          (None, 16, 16, 64)        0         \n",
      "_________________________________________________________________\n",
      "flatten_1 (Flatten)          (None, 16384)             0         \n",
      "_________________________________________________________________\n",
      "dense_1 (Dense)              (None, 64)                1048640   \n",
      "_________________________________________________________________\n",
      "leaky_re_lu_3 (LeakyReLU)    (None, 64)                0         \n",
      "=================================================================\n",
      "Total params: 1,068,032\n",
      "Trainable params: 1,068,032\n",
      "Non-trainable params: 0\n",
      "_________________________________________________________________\n"
     ]
    }
   ],
   "source": [
    "feature_model.summary()"
   ]
  },
  {
   "cell_type": "code",
   "execution_count": 135,
   "metadata": {},
   "outputs": [],
   "source": [
    "feature_model.save('Models/articleType_featureExtractor.h5')"
   ]
  },
  {
   "cell_type": "code",
   "execution_count": 136,
   "metadata": {},
   "outputs": [
    {
     "name": "stdout",
     "output_type": "stream",
     "text": [
      "Model: \"model_2\"\n",
      "_________________________________________________________________\n",
      "Layer (type)                 Output Shape              Param #   \n",
      "=================================================================\n",
      "conv2d_1_input (InputLayer)  (None, 64, 64, 3)         0         \n",
      "_________________________________________________________________\n",
      "conv2d_1 (Conv2D)            (None, 64, 64, 32)        896       \n",
      "_________________________________________________________________\n",
      "leaky_re_lu_1 (LeakyReLU)    (None, 64, 64, 32)        0         \n",
      "_________________________________________________________________\n",
      "max_pooling2d_1 (MaxPooling2 (None, 32, 32, 32)        0         \n",
      "_________________________________________________________________\n",
      "dropout_1 (Dropout)          (None, 32, 32, 32)        0         \n",
      "_________________________________________________________________\n",
      "conv2d_2 (Conv2D)            (None, 32, 32, 64)        18496     \n",
      "_________________________________________________________________\n",
      "leaky_re_lu_2 (LeakyReLU)    (None, 32, 32, 64)        0         \n",
      "_________________________________________________________________\n",
      "max_pooling2d_2 (MaxPooling2 (None, 16, 16, 64)        0         \n",
      "_________________________________________________________________\n",
      "dropout_2 (Dropout)          (None, 16, 16, 64)        0         \n",
      "_________________________________________________________________\n",
      "flatten_1 (Flatten)          (None, 16384)             0         \n",
      "_________________________________________________________________\n",
      "dense_1 (Dense)              (None, 64)                1048640   \n",
      "_________________________________________________________________\n",
      "leaky_re_lu_3 (LeakyReLU)    (None, 64)                0         \n",
      "=================================================================\n",
      "Total params: 1,068,032\n",
      "Trainable params: 1,068,032\n",
      "Non-trainable params: 0\n",
      "_________________________________________________________________\n"
     ]
    }
   ],
   "source": [
    "fmod=load_model('Models/articleType_featureExtractor.h5')\n",
    "fmod.summary()"
   ]
  },
  {
   "cell_type": "code",
   "execution_count": null,
   "metadata": {},
   "outputs": [],
   "source": []
  }
 ],
 "metadata": {
  "kernelspec": {
   "display_name": "Python 3",
   "language": "python",
   "name": "python3"
  },
  "language_info": {
   "codemirror_mode": {
    "name": "ipython",
    "version": 3
   },
   "file_extension": ".py",
   "mimetype": "text/x-python",
   "name": "python",
   "nbconvert_exporter": "python",
   "pygments_lexer": "ipython3",
   "version": "3.7.4"
  }
 },
 "nbformat": 4,
 "nbformat_minor": 4
}
